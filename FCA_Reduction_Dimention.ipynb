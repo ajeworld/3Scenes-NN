{
  "nbformat": 4,
  "nbformat_minor": 0,
  "metadata": {
    "colab": {
      "name": "PERBANDINGAN_PCA_LDA_FA.ipynb",
      "provenance": [],
      "collapsed_sections": [
        "cS49yT2BOXyJ"
      ],
      "include_colab_link": true
    },
    "kernelspec": {
      "name": "python3",
      "display_name": "Python 3"
    }
  },
  "cells": [
    {
      "cell_type": "markdown",
      "metadata": {
        "id": "view-in-github",
        "colab_type": "text"
      },
      "source": [
        "<a href=\"https://colab.research.google.com/github/ajeworld/3Scenes-NN/blob/main/FCA_Reduction_Dimention.ipynb\" target=\"_parent\"><img src=\"https://colab.research.google.com/assets/colab-badge.svg\" alt=\"Open In Colab\"/></a>"
      ]
    },
    {
      "cell_type": "code",
      "metadata": {
        "id": "FcP2lFh1HLru"
      },
      "source": [
        "import pandas as pd\r\n",
        "import sklearn.datasets\r\n",
        "!pip install factor_analyzer  \r\n",
        "from factor_analyzer import FactorAnalyzer\r\n",
        "from factor_analyzer import FactorAnalyzer\r\n",
        "import matplotlib.pyplot as plt"
      ],
      "execution_count": null,
      "outputs": []
    },
    {
      "cell_type": "code",
      "metadata": {
        "id": "63_gGWFIHMVk"
      },
      "source": [
        "dataset= pd.read_csv(\"data_cancer.csv\")"
      ],
      "execution_count": 165,
      "outputs": []
    },
    {
      "cell_type": "code",
      "metadata": {
        "colab": {
          "base_uri": "https://localhost:8080/"
        },
        "id": "2qeiTTpvHTEO",
        "outputId": "d5293bac-4088-4884-865f-2f614ce1758f"
      },
      "source": [
        "dataset.columns"
      ],
      "execution_count": 166,
      "outputs": [
        {
          "output_type": "execute_result",
          "data": {
            "text/plain": [
              "Index(['id', 'diagnosis', 'radius_mean', 'texture_mean', 'perimeter_mean',\n",
              "       'area_mean', 'smoothness_mean', 'compactness_mean', 'concavity_mean',\n",
              "       'concave points_mean', 'symmetry_mean', 'fractal_dimension_mean',\n",
              "       'radius_se', 'texture_se', 'perimeter_se', 'area_se', 'smoothness_se',\n",
              "       'compactness_se', 'concavity_se', 'concave points_se', 'symmetry_se',\n",
              "       'fractal_dimension_se', 'radius_worst', 'texture_worst',\n",
              "       'perimeter_worst', 'area_worst', 'smoothness_worst',\n",
              "       'compactness_worst', 'concavity_worst', 'concave points_worst',\n",
              "       'symmetry_worst', 'fractal_dimension_worst', 'Unnamed: 32'],\n",
              "      dtype='object')"
            ]
          },
          "metadata": {
            "tags": []
          },
          "execution_count": 166
        }
      ]
    },
    {
      "cell_type": "code",
      "metadata": {
        "colab": {
          "base_uri": "https://localhost:8080/"
        },
        "id": "qiowdwWkHWvU",
        "outputId": "589f145b-2508-4fe7-9e18-ee016d0feb37"
      },
      "source": [
        "dataset.info()"
      ],
      "execution_count": 167,
      "outputs": [
        {
          "output_type": "stream",
          "text": [
            "<class 'pandas.core.frame.DataFrame'>\n",
            "RangeIndex: 569 entries, 0 to 568\n",
            "Data columns (total 33 columns):\n",
            " #   Column                   Non-Null Count  Dtype  \n",
            "---  ------                   --------------  -----  \n",
            " 0   id                       569 non-null    int64  \n",
            " 1   diagnosis                569 non-null    object \n",
            " 2   radius_mean              569 non-null    float64\n",
            " 3   texture_mean             569 non-null    float64\n",
            " 4   perimeter_mean           569 non-null    float64\n",
            " 5   area_mean                569 non-null    float64\n",
            " 6   smoothness_mean          569 non-null    float64\n",
            " 7   compactness_mean         569 non-null    float64\n",
            " 8   concavity_mean           569 non-null    float64\n",
            " 9   concave points_mean      569 non-null    float64\n",
            " 10  symmetry_mean            569 non-null    float64\n",
            " 11  fractal_dimension_mean   569 non-null    float64\n",
            " 12  radius_se                569 non-null    float64\n",
            " 13  texture_se               569 non-null    float64\n",
            " 14  perimeter_se             569 non-null    float64\n",
            " 15  area_se                  569 non-null    float64\n",
            " 16  smoothness_se            569 non-null    float64\n",
            " 17  compactness_se           569 non-null    float64\n",
            " 18  concavity_se             569 non-null    float64\n",
            " 19  concave points_se        569 non-null    float64\n",
            " 20  symmetry_se              569 non-null    float64\n",
            " 21  fractal_dimension_se     569 non-null    float64\n",
            " 22  radius_worst             569 non-null    float64\n",
            " 23  texture_worst            569 non-null    float64\n",
            " 24  perimeter_worst          569 non-null    float64\n",
            " 25  area_worst               569 non-null    float64\n",
            " 26  smoothness_worst         569 non-null    float64\n",
            " 27  compactness_worst        569 non-null    float64\n",
            " 28  concavity_worst          569 non-null    float64\n",
            " 29  concave points_worst     569 non-null    float64\n",
            " 30  symmetry_worst           569 non-null    float64\n",
            " 31  fractal_dimension_worst  569 non-null    float64\n",
            " 32  Unnamed: 32              0 non-null      float64\n",
            "dtypes: float64(31), int64(1), object(1)\n",
            "memory usage: 146.8+ KB\n"
          ],
          "name": "stdout"
        }
      ]
    },
    {
      "cell_type": "code",
      "metadata": {
        "colab": {
          "base_uri": "https://localhost:8080/",
          "height": 232
        },
        "id": "cBQtASUnL9Sd",
        "outputId": "5709e041-6b98-43e5-844f-73473ad141ac"
      },
      "source": [
        "dataset.head()"
      ],
      "execution_count": 168,
      "outputs": [
        {
          "output_type": "execute_result",
          "data": {
            "text/html": [
              "<div>\n",
              "<style scoped>\n",
              "    .dataframe tbody tr th:only-of-type {\n",
              "        vertical-align: middle;\n",
              "    }\n",
              "\n",
              "    .dataframe tbody tr th {\n",
              "        vertical-align: top;\n",
              "    }\n",
              "\n",
              "    .dataframe thead th {\n",
              "        text-align: right;\n",
              "    }\n",
              "</style>\n",
              "<table border=\"1\" class=\"dataframe\">\n",
              "  <thead>\n",
              "    <tr style=\"text-align: right;\">\n",
              "      <th></th>\n",
              "      <th>id</th>\n",
              "      <th>diagnosis</th>\n",
              "      <th>radius_mean</th>\n",
              "      <th>texture_mean</th>\n",
              "      <th>perimeter_mean</th>\n",
              "      <th>area_mean</th>\n",
              "      <th>smoothness_mean</th>\n",
              "      <th>compactness_mean</th>\n",
              "      <th>concavity_mean</th>\n",
              "      <th>concave points_mean</th>\n",
              "      <th>symmetry_mean</th>\n",
              "      <th>fractal_dimension_mean</th>\n",
              "      <th>radius_se</th>\n",
              "      <th>texture_se</th>\n",
              "      <th>perimeter_se</th>\n",
              "      <th>area_se</th>\n",
              "      <th>smoothness_se</th>\n",
              "      <th>compactness_se</th>\n",
              "      <th>concavity_se</th>\n",
              "      <th>concave points_se</th>\n",
              "      <th>symmetry_se</th>\n",
              "      <th>fractal_dimension_se</th>\n",
              "      <th>radius_worst</th>\n",
              "      <th>texture_worst</th>\n",
              "      <th>perimeter_worst</th>\n",
              "      <th>area_worst</th>\n",
              "      <th>smoothness_worst</th>\n",
              "      <th>compactness_worst</th>\n",
              "      <th>concavity_worst</th>\n",
              "      <th>concave points_worst</th>\n",
              "      <th>symmetry_worst</th>\n",
              "      <th>fractal_dimension_worst</th>\n",
              "      <th>Unnamed: 32</th>\n",
              "    </tr>\n",
              "  </thead>\n",
              "  <tbody>\n",
              "    <tr>\n",
              "      <th>0</th>\n",
              "      <td>842302</td>\n",
              "      <td>M</td>\n",
              "      <td>17.99</td>\n",
              "      <td>10.38</td>\n",
              "      <td>122.80</td>\n",
              "      <td>1001.0</td>\n",
              "      <td>0.11840</td>\n",
              "      <td>0.27760</td>\n",
              "      <td>0.3001</td>\n",
              "      <td>0.14710</td>\n",
              "      <td>0.2419</td>\n",
              "      <td>0.07871</td>\n",
              "      <td>1.0950</td>\n",
              "      <td>0.9053</td>\n",
              "      <td>8.589</td>\n",
              "      <td>153.40</td>\n",
              "      <td>0.006399</td>\n",
              "      <td>0.04904</td>\n",
              "      <td>0.05373</td>\n",
              "      <td>0.01587</td>\n",
              "      <td>0.03003</td>\n",
              "      <td>0.006193</td>\n",
              "      <td>25.38</td>\n",
              "      <td>17.33</td>\n",
              "      <td>184.60</td>\n",
              "      <td>2019.0</td>\n",
              "      <td>0.1622</td>\n",
              "      <td>0.6656</td>\n",
              "      <td>0.7119</td>\n",
              "      <td>0.2654</td>\n",
              "      <td>0.4601</td>\n",
              "      <td>0.11890</td>\n",
              "      <td>NaN</td>\n",
              "    </tr>\n",
              "    <tr>\n",
              "      <th>1</th>\n",
              "      <td>842517</td>\n",
              "      <td>M</td>\n",
              "      <td>20.57</td>\n",
              "      <td>17.77</td>\n",
              "      <td>132.90</td>\n",
              "      <td>1326.0</td>\n",
              "      <td>0.08474</td>\n",
              "      <td>0.07864</td>\n",
              "      <td>0.0869</td>\n",
              "      <td>0.07017</td>\n",
              "      <td>0.1812</td>\n",
              "      <td>0.05667</td>\n",
              "      <td>0.5435</td>\n",
              "      <td>0.7339</td>\n",
              "      <td>3.398</td>\n",
              "      <td>74.08</td>\n",
              "      <td>0.005225</td>\n",
              "      <td>0.01308</td>\n",
              "      <td>0.01860</td>\n",
              "      <td>0.01340</td>\n",
              "      <td>0.01389</td>\n",
              "      <td>0.003532</td>\n",
              "      <td>24.99</td>\n",
              "      <td>23.41</td>\n",
              "      <td>158.80</td>\n",
              "      <td>1956.0</td>\n",
              "      <td>0.1238</td>\n",
              "      <td>0.1866</td>\n",
              "      <td>0.2416</td>\n",
              "      <td>0.1860</td>\n",
              "      <td>0.2750</td>\n",
              "      <td>0.08902</td>\n",
              "      <td>NaN</td>\n",
              "    </tr>\n",
              "    <tr>\n",
              "      <th>2</th>\n",
              "      <td>84300903</td>\n",
              "      <td>M</td>\n",
              "      <td>19.69</td>\n",
              "      <td>21.25</td>\n",
              "      <td>130.00</td>\n",
              "      <td>1203.0</td>\n",
              "      <td>0.10960</td>\n",
              "      <td>0.15990</td>\n",
              "      <td>0.1974</td>\n",
              "      <td>0.12790</td>\n",
              "      <td>0.2069</td>\n",
              "      <td>0.05999</td>\n",
              "      <td>0.7456</td>\n",
              "      <td>0.7869</td>\n",
              "      <td>4.585</td>\n",
              "      <td>94.03</td>\n",
              "      <td>0.006150</td>\n",
              "      <td>0.04006</td>\n",
              "      <td>0.03832</td>\n",
              "      <td>0.02058</td>\n",
              "      <td>0.02250</td>\n",
              "      <td>0.004571</td>\n",
              "      <td>23.57</td>\n",
              "      <td>25.53</td>\n",
              "      <td>152.50</td>\n",
              "      <td>1709.0</td>\n",
              "      <td>0.1444</td>\n",
              "      <td>0.4245</td>\n",
              "      <td>0.4504</td>\n",
              "      <td>0.2430</td>\n",
              "      <td>0.3613</td>\n",
              "      <td>0.08758</td>\n",
              "      <td>NaN</td>\n",
              "    </tr>\n",
              "    <tr>\n",
              "      <th>3</th>\n",
              "      <td>84348301</td>\n",
              "      <td>M</td>\n",
              "      <td>11.42</td>\n",
              "      <td>20.38</td>\n",
              "      <td>77.58</td>\n",
              "      <td>386.1</td>\n",
              "      <td>0.14250</td>\n",
              "      <td>0.28390</td>\n",
              "      <td>0.2414</td>\n",
              "      <td>0.10520</td>\n",
              "      <td>0.2597</td>\n",
              "      <td>0.09744</td>\n",
              "      <td>0.4956</td>\n",
              "      <td>1.1560</td>\n",
              "      <td>3.445</td>\n",
              "      <td>27.23</td>\n",
              "      <td>0.009110</td>\n",
              "      <td>0.07458</td>\n",
              "      <td>0.05661</td>\n",
              "      <td>0.01867</td>\n",
              "      <td>0.05963</td>\n",
              "      <td>0.009208</td>\n",
              "      <td>14.91</td>\n",
              "      <td>26.50</td>\n",
              "      <td>98.87</td>\n",
              "      <td>567.7</td>\n",
              "      <td>0.2098</td>\n",
              "      <td>0.8663</td>\n",
              "      <td>0.6869</td>\n",
              "      <td>0.2575</td>\n",
              "      <td>0.6638</td>\n",
              "      <td>0.17300</td>\n",
              "      <td>NaN</td>\n",
              "    </tr>\n",
              "    <tr>\n",
              "      <th>4</th>\n",
              "      <td>84358402</td>\n",
              "      <td>M</td>\n",
              "      <td>20.29</td>\n",
              "      <td>14.34</td>\n",
              "      <td>135.10</td>\n",
              "      <td>1297.0</td>\n",
              "      <td>0.10030</td>\n",
              "      <td>0.13280</td>\n",
              "      <td>0.1980</td>\n",
              "      <td>0.10430</td>\n",
              "      <td>0.1809</td>\n",
              "      <td>0.05883</td>\n",
              "      <td>0.7572</td>\n",
              "      <td>0.7813</td>\n",
              "      <td>5.438</td>\n",
              "      <td>94.44</td>\n",
              "      <td>0.011490</td>\n",
              "      <td>0.02461</td>\n",
              "      <td>0.05688</td>\n",
              "      <td>0.01885</td>\n",
              "      <td>0.01756</td>\n",
              "      <td>0.005115</td>\n",
              "      <td>22.54</td>\n",
              "      <td>16.67</td>\n",
              "      <td>152.20</td>\n",
              "      <td>1575.0</td>\n",
              "      <td>0.1374</td>\n",
              "      <td>0.2050</td>\n",
              "      <td>0.4000</td>\n",
              "      <td>0.1625</td>\n",
              "      <td>0.2364</td>\n",
              "      <td>0.07678</td>\n",
              "      <td>NaN</td>\n",
              "    </tr>\n",
              "  </tbody>\n",
              "</table>\n",
              "</div>"
            ],
            "text/plain": [
              "         id diagnosis  ...  fractal_dimension_worst  Unnamed: 32\n",
              "0    842302         M  ...                  0.11890          NaN\n",
              "1    842517         M  ...                  0.08902          NaN\n",
              "2  84300903         M  ...                  0.08758          NaN\n",
              "3  84348301         M  ...                  0.17300          NaN\n",
              "4  84358402         M  ...                  0.07678          NaN\n",
              "\n",
              "[5 rows x 33 columns]"
            ]
          },
          "metadata": {
            "tags": []
          },
          "execution_count": 168
        }
      ]
    },
    {
      "cell_type": "code",
      "metadata": {
        "id": "Mk5plmkbML3Q"
      },
      "source": [
        "x = dataset[['radius_mean', 'perimeter_mean', 'area_mean', 'radius_worst', 'perimeter_worst']]\r\n",
        "y = dataset['diagnosis'].copy()"
      ],
      "execution_count": 170,
      "outputs": []
    },
    {
      "cell_type": "code",
      "metadata": {
        "colab": {
          "base_uri": "https://localhost:8080/"
        },
        "id": "gjRXAk41FMiF",
        "outputId": "0f561ccc-e038-4f99-c752-1f2b3cf76ccc"
      },
      "source": [
        "dataset= pd.read_csv(\"data_cancer.csv\")\r\n",
        "dataset = dataset.drop(columns=['Unnamed: 32'])\r\n",
        "x = dataset[['radius_mean', 'perimeter_mean', 'area_mean', 'radius_worst', 'perimeter_worst']]\r\n",
        "y = dataset['diagnosis'].replace(['M','B'],[1, 0]).copy()\r\n",
        "y.head()"
      ],
      "execution_count": 171,
      "outputs": [
        {
          "output_type": "execute_result",
          "data": {
            "text/plain": [
              "0    1\n",
              "1    1\n",
              "2    1\n",
              "3    1\n",
              "4    1\n",
              "Name: diagnosis, dtype: int64"
            ]
          },
          "metadata": {
            "tags": []
          },
          "execution_count": 171
        }
      ]
    },
    {
      "cell_type": "code",
      "metadata": {
        "id": "av8kxchKGg78"
      },
      "source": [
        "from sklearn.decomposition import FactorAnalysis\r\n",
        "fact_an = FactorAnalysis(n_components=2)\r\n",
        "x_factor = fact_an.fit_transform(x)"
      ],
      "execution_count": 172,
      "outputs": []
    },
    {
      "cell_type": "code",
      "metadata": {
        "id": "JXRLhY6caslc"
      },
      "source": [
        " from sklearn.model_selection import train_test_split\r\n",
        " x_train_fa,x_test_fa,y_train_fa,y_test_fa=train_test_split(x_factor,y,test_size=0.2)"
      ],
      "execution_count": 173,
      "outputs": []
    },
    {
      "cell_type": "code",
      "metadata": {
        "id": "eudWGdEuasmE"
      },
      "source": [
        "import tensorflow as tf\r\n",
        "from tensorflow import keras\r\n",
        "\r\n",
        "model = keras.Sequential()\r\n",
        "\r\n",
        "input_layer = keras.layers.Dense(8,input_dim=2,activation='tanh')\r\n",
        "model.add(input_layer)\r\n",
        "hidden_layer = keras.layers.Dense(3,activation='sigmoid')\r\n",
        "model.add(hidden_layer)\r\n",
        "output_layer = keras.layers.Dense(1, activation='sigmoid')\r\n",
        "model.add(output_layer)\r\n",
        "\r\n",
        "sgd  = keras.optimizers.SGD(lr=1)\r\n",
        "model.compile(optimizer=sgd,loss='binary_crossentropy')"
      ],
      "execution_count": 174,
      "outputs": []
    },
    {
      "cell_type": "code",
      "metadata": {
        "colab": {
          "base_uri": "https://localhost:8080/"
        },
        "id": "Jc4VSZ3jasmI",
        "outputId": "f94c6cd6-afc4-475f-a676-473c7abcf5fe"
      },
      "source": [
        "model.fit(x_train_fa, y_train_fa,\r\n",
        "          epochs=100,\r\n",
        "          steps_per_epoch=10)"
      ],
      "execution_count": 200,
      "outputs": [
        {
          "output_type": "stream",
          "text": [
            "Epoch 1/100\n",
            "10/10 [==============================] - 0s 1ms/step - loss: 0.0671\n",
            "Epoch 2/100\n",
            "10/10 [==============================] - 0s 1ms/step - loss: 0.0673\n",
            "Epoch 3/100\n",
            "10/10 [==============================] - 0s 2ms/step - loss: 0.0666\n",
            "Epoch 4/100\n",
            "10/10 [==============================] - 0s 2ms/step - loss: 0.0678\n",
            "Epoch 5/100\n",
            "10/10 [==============================] - 0s 2ms/step - loss: 0.0670\n",
            "Epoch 6/100\n",
            "10/10 [==============================] - 0s 1ms/step - loss: 0.0665\n",
            "Epoch 7/100\n",
            "10/10 [==============================] - 0s 2ms/step - loss: 0.0672\n",
            "Epoch 8/100\n",
            "10/10 [==============================] - 0s 1ms/step - loss: 0.0727\n",
            "Epoch 9/100\n",
            "10/10 [==============================] - 0s 2ms/step - loss: 0.0693\n",
            "Epoch 10/100\n",
            "10/10 [==============================] - 0s 2ms/step - loss: 0.0671\n",
            "Epoch 11/100\n",
            "10/10 [==============================] - 0s 1ms/step - loss: 0.0684\n",
            "Epoch 12/100\n",
            "10/10 [==============================] - 0s 2ms/step - loss: 0.0675\n",
            "Epoch 13/100\n",
            "10/10 [==============================] - 0s 2ms/step - loss: 0.0699\n",
            "Epoch 14/100\n",
            "10/10 [==============================] - 0s 2ms/step - loss: 0.0672\n",
            "Epoch 15/100\n",
            "10/10 [==============================] - 0s 2ms/step - loss: 0.0667\n",
            "Epoch 16/100\n",
            "10/10 [==============================] - 0s 2ms/step - loss: 0.0788\n",
            "Epoch 17/100\n",
            "10/10 [==============================] - 0s 2ms/step - loss: 0.0849\n",
            "Epoch 18/100\n",
            "10/10 [==============================] - 0s 2ms/step - loss: 0.0714\n",
            "Epoch 19/100\n",
            "10/10 [==============================] - 0s 2ms/step - loss: 0.0698\n",
            "Epoch 20/100\n",
            "10/10 [==============================] - 0s 2ms/step - loss: 0.0681\n",
            "Epoch 21/100\n",
            "10/10 [==============================] - 0s 2ms/step - loss: 0.0701\n",
            "Epoch 22/100\n",
            "10/10 [==============================] - 0s 2ms/step - loss: 0.0682\n",
            "Epoch 23/100\n",
            "10/10 [==============================] - 0s 2ms/step - loss: 0.0685\n",
            "Epoch 24/100\n",
            "10/10 [==============================] - 0s 2ms/step - loss: 0.0690\n",
            "Epoch 25/100\n",
            "10/10 [==============================] - 0s 1ms/step - loss: 0.0679\n",
            "Epoch 26/100\n",
            "10/10 [==============================] - 0s 2ms/step - loss: 0.0677\n",
            "Epoch 27/100\n",
            "10/10 [==============================] - 0s 2ms/step - loss: 0.0666\n",
            "Epoch 28/100\n",
            "10/10 [==============================] - 0s 2ms/step - loss: 0.0672\n",
            "Epoch 29/100\n",
            "10/10 [==============================] - 0s 2ms/step - loss: 0.0693\n",
            "Epoch 30/100\n",
            "10/10 [==============================] - 0s 2ms/step - loss: 0.0680\n",
            "Epoch 31/100\n",
            "10/10 [==============================] - 0s 2ms/step - loss: 0.0683\n",
            "Epoch 32/100\n",
            "10/10 [==============================] - 0s 2ms/step - loss: 0.0683\n",
            "Epoch 33/100\n",
            "10/10 [==============================] - 0s 2ms/step - loss: 0.0720\n",
            "Epoch 34/100\n",
            "10/10 [==============================] - 0s 2ms/step - loss: 0.0692\n",
            "Epoch 35/100\n",
            "10/10 [==============================] - 0s 2ms/step - loss: 0.0672\n",
            "Epoch 36/100\n",
            "10/10 [==============================] - 0s 2ms/step - loss: 0.0675\n",
            "Epoch 37/100\n",
            "10/10 [==============================] - 0s 2ms/step - loss: 0.0669\n",
            "Epoch 38/100\n",
            "10/10 [==============================] - 0s 2ms/step - loss: 0.0701\n",
            "Epoch 39/100\n",
            "10/10 [==============================] - 0s 1ms/step - loss: 0.0667\n",
            "Epoch 40/100\n",
            "10/10 [==============================] - 0s 2ms/step - loss: 0.0676\n",
            "Epoch 41/100\n",
            "10/10 [==============================] - 0s 2ms/step - loss: 0.0707\n",
            "Epoch 42/100\n",
            "10/10 [==============================] - 0s 2ms/step - loss: 0.0672\n",
            "Epoch 43/100\n",
            "10/10 [==============================] - 0s 2ms/step - loss: 0.0667\n",
            "Epoch 44/100\n",
            "10/10 [==============================] - 0s 1ms/step - loss: 0.0669\n",
            "Epoch 45/100\n",
            "10/10 [==============================] - 0s 2ms/step - loss: 0.0698\n",
            "Epoch 46/100\n",
            "10/10 [==============================] - 0s 2ms/step - loss: 0.0672\n",
            "Epoch 47/100\n",
            "10/10 [==============================] - 0s 2ms/step - loss: 0.0668\n",
            "Epoch 48/100\n",
            "10/10 [==============================] - 0s 2ms/step - loss: 0.0670\n",
            "Epoch 49/100\n",
            "10/10 [==============================] - 0s 2ms/step - loss: 0.0674\n",
            "Epoch 50/100\n",
            "10/10 [==============================] - 0s 2ms/step - loss: 0.0679\n",
            "Epoch 51/100\n",
            "10/10 [==============================] - 0s 2ms/step - loss: 0.0665\n",
            "Epoch 52/100\n",
            "10/10 [==============================] - 0s 2ms/step - loss: 0.0685\n",
            "Epoch 53/100\n",
            "10/10 [==============================] - 0s 2ms/step - loss: 0.0679\n",
            "Epoch 54/100\n",
            "10/10 [==============================] - 0s 2ms/step - loss: 0.0672\n",
            "Epoch 55/100\n",
            "10/10 [==============================] - 0s 2ms/step - loss: 0.0678\n",
            "Epoch 56/100\n",
            "10/10 [==============================] - 0s 2ms/step - loss: 0.0811\n",
            "Epoch 57/100\n",
            "10/10 [==============================] - 0s 2ms/step - loss: 0.0674\n",
            "Epoch 58/100\n",
            "10/10 [==============================] - 0s 2ms/step - loss: 0.0675\n",
            "Epoch 59/100\n",
            "10/10 [==============================] - 0s 2ms/step - loss: 0.0665\n",
            "Epoch 60/100\n",
            "10/10 [==============================] - 0s 2ms/step - loss: 0.0674\n",
            "Epoch 61/100\n",
            "10/10 [==============================] - 0s 1ms/step - loss: 0.0686\n",
            "Epoch 62/100\n",
            "10/10 [==============================] - 0s 2ms/step - loss: 0.0673\n",
            "Epoch 63/100\n",
            "10/10 [==============================] - 0s 2ms/step - loss: 0.0668\n",
            "Epoch 64/100\n",
            "10/10 [==============================] - 0s 2ms/step - loss: 0.0664\n",
            "Epoch 65/100\n",
            "10/10 [==============================] - 0s 2ms/step - loss: 0.0664\n",
            "Epoch 66/100\n",
            "10/10 [==============================] - 0s 3ms/step - loss: 0.0661\n",
            "Epoch 67/100\n",
            "10/10 [==============================] - 0s 2ms/step - loss: 0.0680\n",
            "Epoch 68/100\n",
            "10/10 [==============================] - 0s 1ms/step - loss: 0.0708\n",
            "Epoch 69/100\n",
            "10/10 [==============================] - 0s 2ms/step - loss: 0.0717\n",
            "Epoch 70/100\n",
            "10/10 [==============================] - 0s 2ms/step - loss: 0.0688\n",
            "Epoch 71/100\n",
            "10/10 [==============================] - 0s 2ms/step - loss: 0.0689\n",
            "Epoch 72/100\n",
            "10/10 [==============================] - 0s 2ms/step - loss: 0.0682\n",
            "Epoch 73/100\n",
            "10/10 [==============================] - 0s 2ms/step - loss: 0.0686\n",
            "Epoch 74/100\n",
            "10/10 [==============================] - 0s 1ms/step - loss: 0.0670\n",
            "Epoch 75/100\n",
            "10/10 [==============================] - 0s 2ms/step - loss: 0.0664\n",
            "Epoch 76/100\n",
            "10/10 [==============================] - 0s 2ms/step - loss: 0.0680\n",
            "Epoch 77/100\n",
            "10/10 [==============================] - 0s 2ms/step - loss: 0.0674\n",
            "Epoch 78/100\n",
            "10/10 [==============================] - 0s 2ms/step - loss: 0.0668\n",
            "Epoch 79/100\n",
            "10/10 [==============================] - 0s 2ms/step - loss: 0.0667\n",
            "Epoch 80/100\n",
            "10/10 [==============================] - 0s 2ms/step - loss: 0.0668\n",
            "Epoch 81/100\n",
            "10/10 [==============================] - 0s 2ms/step - loss: 0.0664\n",
            "Epoch 82/100\n",
            "10/10 [==============================] - 0s 2ms/step - loss: 0.0685\n",
            "Epoch 83/100\n",
            "10/10 [==============================] - 0s 2ms/step - loss: 0.0676\n",
            "Epoch 84/100\n",
            "10/10 [==============================] - 0s 2ms/step - loss: 0.0691\n",
            "Epoch 85/100\n",
            "10/10 [==============================] - 0s 1ms/step - loss: 0.0669\n",
            "Epoch 86/100\n",
            "10/10 [==============================] - 0s 2ms/step - loss: 0.0689\n",
            "Epoch 87/100\n",
            "10/10 [==============================] - 0s 2ms/step - loss: 0.0663\n",
            "Epoch 88/100\n",
            "10/10 [==============================] - 0s 2ms/step - loss: 0.0682\n",
            "Epoch 89/100\n",
            "10/10 [==============================] - 0s 2ms/step - loss: 0.0670\n",
            "Epoch 90/100\n",
            "10/10 [==============================] - 0s 1ms/step - loss: 0.0665\n",
            "Epoch 91/100\n",
            "10/10 [==============================] - 0s 2ms/step - loss: 0.0663\n",
            "Epoch 92/100\n",
            "10/10 [==============================] - 0s 2ms/step - loss: 0.0692\n",
            "Epoch 93/100\n",
            "10/10 [==============================] - 0s 2ms/step - loss: 0.0663\n",
            "Epoch 94/100\n",
            "10/10 [==============================] - 0s 2ms/step - loss: 0.0674\n",
            "Epoch 95/100\n",
            "10/10 [==============================] - 0s 2ms/step - loss: 0.0769\n",
            "Epoch 96/100\n",
            "10/10 [==============================] - 0s 2ms/step - loss: 0.0737\n",
            "Epoch 97/100\n",
            "10/10 [==============================] - 0s 2ms/step - loss: 0.0680\n",
            "Epoch 98/100\n",
            "10/10 [==============================] - 0s 2ms/step - loss: 0.0671\n",
            "Epoch 99/100\n",
            "10/10 [==============================] - 0s 2ms/step - loss: 0.0671\n",
            "Epoch 100/100\n",
            "10/10 [==============================] - 0s 2ms/step - loss: 0.0670\n"
          ],
          "name": "stdout"
        },
        {
          "output_type": "execute_result",
          "data": {
            "text/plain": [
              "<tensorflow.python.keras.callbacks.History at 0x7f4e049ee240>"
            ]
          },
          "metadata": {
            "tags": []
          },
          "execution_count": 200
        }
      ]
    },
    {
      "cell_type": "code",
      "metadata": {
        "colab": {
          "base_uri": "https://localhost:8080/"
        },
        "id": "8C5x4xfgasmQ",
        "outputId": "86872cf1-316d-4965-e841-cb4434096803"
      },
      "source": [
        "score_fa = model.evaluate(x_test_fa, y_test_fa, verbose=0)\r\n",
        "print(score_fa)"
      ],
      "execution_count": 201,
      "outputs": [
        {
          "output_type": "stream",
          "text": [
            "0.17885658144950867\n"
          ],
          "name": "stdout"
        }
      ]
    },
    {
      "cell_type": "code",
      "metadata": {
        "colab": {
          "base_uri": "https://localhost:8080/"
        },
        "id": "zQVTfL5wwVQR",
        "outputId": "b7de5b89-0369-407b-d6aa-bc133bac3da3"
      },
      "source": [
        "# Membagi data ke test dan training set\r\n",
        "from sklearn.model_selection import train_test_split\r\n",
        "x_train_fa,x_val_and_test_fa,y_train_fa,y_val_and_test_fa=train_test_split(principalDf2,y2,test_size=0.25, random_state = 0)\r\n",
        "x_val_fa, x_test_fa, y_val_fa, y_test_fa = train_test_split(x_val_and_test_fa, y_val_and_test_fa, test_size=0.5)\r\n",
        "print(x_train_fa.shape, x_val_fa.shape, x_test_fa.shape, y_train_fa.shape, y_val_fa.shape, y_test_fa.shape)\r\n"
      ],
      "execution_count": 214,
      "outputs": [
        {
          "output_type": "stream",
          "text": [
            "(426, 2) (71, 2) (72, 2) (426,) (71,) (72,)\n"
          ],
          "name": "stdout"
        }
      ]
    },
    {
      "cell_type": "code",
      "metadata": {
        "id": "NomgGWYUwZos"
      },
      "source": [
        "import tensorflow as tf\r\n",
        "from tensorflow import keras\r\n",
        "\r\n",
        "model = keras.Sequential()\r\n",
        "\r\n",
        "input_layer = keras.layers.Dense(8,input_dim=2,activation='tanh')\r\n",
        "model.add(input_layer)\r\n",
        "hidden_layer = keras.layers.Dense(3,activation='sigmoid')\r\n",
        "model.add(hidden_layer)\r\n",
        "output_layer = keras.layers.Dense(1, activation='sigmoid')\r\n",
        "model.add(output_layer)\r\n",
        "\r\n",
        "sgd  = keras.optimizers.SGD(lr=1)\r\n",
        "model.compile(optimizer=sgd,loss='binary_crossentropy',metrics=['accuracy'])"
      ],
      "execution_count": 215,
      "outputs": []
    },
    {
      "cell_type": "code",
      "metadata": {
        "colab": {
          "base_uri": "https://localhost:8080/"
        },
        "id": "LVkOG7AEwcy0",
        "outputId": "b53c809c-863c-43bc-9a01-d25ea76026fc"
      },
      "source": [
        "H = model.fit(x_train_fa, y_train_fa,\r\n",
        "          epochs=100,\r\n",
        "          steps_per_epoch=10,\r\n",
        "          validation_data=(x_val_fa, y_val_fa))"
      ],
      "execution_count": 222,
      "outputs": [
        {
          "output_type": "stream",
          "text": [
            "Epoch 1/100\n",
            "10/10 [==============================] - 0s 12ms/step - loss: 0.1493 - accuracy: 0.9460 - val_loss: 0.1656 - val_accuracy: 0.9155\n",
            "Epoch 2/100\n",
            "10/10 [==============================] - 0s 6ms/step - loss: 0.1561 - accuracy: 0.9437 - val_loss: 0.1391 - val_accuracy: 0.9437\n",
            "Epoch 3/100\n",
            "10/10 [==============================] - 0s 6ms/step - loss: 0.1465 - accuracy: 0.9460 - val_loss: 0.1527 - val_accuracy: 0.9437\n",
            "Epoch 4/100\n",
            "10/10 [==============================] - 0s 6ms/step - loss: 0.1465 - accuracy: 0.9507 - val_loss: 0.1752 - val_accuracy: 0.9155\n",
            "Epoch 5/100\n",
            "10/10 [==============================] - 0s 6ms/step - loss: 0.1451 - accuracy: 0.9484 - val_loss: 0.1588 - val_accuracy: 0.9296\n",
            "Epoch 6/100\n",
            "10/10 [==============================] - 0s 5ms/step - loss: 0.1464 - accuracy: 0.9484 - val_loss: 0.1424 - val_accuracy: 0.9437\n",
            "Epoch 7/100\n",
            "10/10 [==============================] - 0s 6ms/step - loss: 0.1485 - accuracy: 0.9460 - val_loss: 0.1369 - val_accuracy: 0.9437\n",
            "Epoch 8/100\n",
            "10/10 [==============================] - 0s 6ms/step - loss: 0.1463 - accuracy: 0.9460 - val_loss: 0.1500 - val_accuracy: 0.9437\n",
            "Epoch 9/100\n",
            "10/10 [==============================] - 0s 6ms/step - loss: 0.1432 - accuracy: 0.9531 - val_loss: 0.1736 - val_accuracy: 0.9155\n",
            "Epoch 10/100\n",
            "10/10 [==============================] - 0s 5ms/step - loss: 0.1486 - accuracy: 0.9484 - val_loss: 0.1320 - val_accuracy: 0.9577\n",
            "Epoch 11/100\n",
            "10/10 [==============================] - 0s 6ms/step - loss: 0.1459 - accuracy: 0.9413 - val_loss: 0.1659 - val_accuracy: 0.9437\n",
            "Epoch 12/100\n",
            "10/10 [==============================] - 0s 6ms/step - loss: 0.1428 - accuracy: 0.9484 - val_loss: 0.1425 - val_accuracy: 0.9577\n",
            "Epoch 13/100\n",
            "10/10 [==============================] - 0s 7ms/step - loss: 0.1447 - accuracy: 0.9484 - val_loss: 0.1377 - val_accuracy: 0.9718\n",
            "Epoch 14/100\n",
            "10/10 [==============================] - 0s 6ms/step - loss: 0.1555 - accuracy: 0.9390 - val_loss: 0.1506 - val_accuracy: 0.9437\n",
            "Epoch 15/100\n",
            "10/10 [==============================] - 0s 6ms/step - loss: 0.1516 - accuracy: 0.9437 - val_loss: 0.1544 - val_accuracy: 0.9437\n",
            "Epoch 16/100\n",
            "10/10 [==============================] - 0s 6ms/step - loss: 0.1519 - accuracy: 0.9484 - val_loss: 0.1402 - val_accuracy: 0.9577\n",
            "Epoch 17/100\n",
            "10/10 [==============================] - 0s 6ms/step - loss: 0.1432 - accuracy: 0.9577 - val_loss: 0.1600 - val_accuracy: 0.9155\n",
            "Epoch 18/100\n",
            "10/10 [==============================] - 0s 6ms/step - loss: 0.1428 - accuracy: 0.9507 - val_loss: 0.1420 - val_accuracy: 0.9437\n",
            "Epoch 19/100\n",
            "10/10 [==============================] - 0s 6ms/step - loss: 0.1429 - accuracy: 0.9507 - val_loss: 0.1224 - val_accuracy: 0.9577\n",
            "Epoch 20/100\n",
            "10/10 [==============================] - 0s 6ms/step - loss: 0.1571 - accuracy: 0.9437 - val_loss: 0.1306 - val_accuracy: 0.9577\n",
            "Epoch 21/100\n",
            "10/10 [==============================] - 0s 6ms/step - loss: 0.1477 - accuracy: 0.9484 - val_loss: 0.2146 - val_accuracy: 0.9014\n",
            "Epoch 22/100\n",
            "10/10 [==============================] - 0s 7ms/step - loss: 0.1449 - accuracy: 0.9460 - val_loss: 0.1615 - val_accuracy: 0.9437\n",
            "Epoch 23/100\n",
            "10/10 [==============================] - 0s 7ms/step - loss: 0.1416 - accuracy: 0.9460 - val_loss: 0.1270 - val_accuracy: 0.9718\n",
            "Epoch 24/100\n",
            "10/10 [==============================] - 0s 7ms/step - loss: 0.1504 - accuracy: 0.9460 - val_loss: 0.1500 - val_accuracy: 0.9577\n",
            "Epoch 25/100\n",
            "10/10 [==============================] - 0s 7ms/step - loss: 0.1471 - accuracy: 0.9460 - val_loss: 0.1628 - val_accuracy: 0.9155\n",
            "Epoch 26/100\n",
            "10/10 [==============================] - 0s 7ms/step - loss: 0.1443 - accuracy: 0.9484 - val_loss: 0.1387 - val_accuracy: 0.9437\n",
            "Epoch 27/100\n",
            "10/10 [==============================] - 0s 7ms/step - loss: 0.1515 - accuracy: 0.9413 - val_loss: 0.1478 - val_accuracy: 0.9577\n",
            "Epoch 28/100\n",
            "10/10 [==============================] - 0s 8ms/step - loss: 0.1476 - accuracy: 0.9507 - val_loss: 0.1699 - val_accuracy: 0.9155\n",
            "Epoch 29/100\n",
            "10/10 [==============================] - 0s 8ms/step - loss: 0.1439 - accuracy: 0.9507 - val_loss: 0.1639 - val_accuracy: 0.9155\n",
            "Epoch 30/100\n",
            "10/10 [==============================] - 0s 7ms/step - loss: 0.1440 - accuracy: 0.9484 - val_loss: 0.1510 - val_accuracy: 0.9437\n",
            "Epoch 31/100\n",
            "10/10 [==============================] - 0s 8ms/step - loss: 0.1474 - accuracy: 0.9437 - val_loss: 0.1285 - val_accuracy: 0.9718\n",
            "Epoch 32/100\n",
            "10/10 [==============================] - 0s 7ms/step - loss: 0.1554 - accuracy: 0.9413 - val_loss: 0.1284 - val_accuracy: 0.9718\n",
            "Epoch 33/100\n",
            "10/10 [==============================] - 0s 33ms/step - loss: 0.1432 - accuracy: 0.9507 - val_loss: 0.1399 - val_accuracy: 0.9437\n",
            "Epoch 34/100\n",
            "10/10 [==============================] - 0s 6ms/step - loss: 0.1473 - accuracy: 0.9437 - val_loss: 0.1673 - val_accuracy: 0.9296\n",
            "Epoch 35/100\n",
            "10/10 [==============================] - 0s 7ms/step - loss: 0.1412 - accuracy: 0.9484 - val_loss: 0.1400 - val_accuracy: 0.9437\n",
            "Epoch 36/100\n",
            "10/10 [==============================] - 0s 6ms/step - loss: 0.1478 - accuracy: 0.9484 - val_loss: 0.1426 - val_accuracy: 0.9577\n",
            "Epoch 37/100\n",
            "10/10 [==============================] - 0s 6ms/step - loss: 0.1428 - accuracy: 0.9507 - val_loss: 0.1633 - val_accuracy: 0.9296\n",
            "Epoch 38/100\n",
            "10/10 [==============================] - 0s 6ms/step - loss: 0.1555 - accuracy: 0.9437 - val_loss: 0.1415 - val_accuracy: 0.9577\n",
            "Epoch 39/100\n",
            "10/10 [==============================] - 0s 6ms/step - loss: 0.1399 - accuracy: 0.9460 - val_loss: 0.1502 - val_accuracy: 0.9437\n",
            "Epoch 40/100\n",
            "10/10 [==============================] - 0s 6ms/step - loss: 0.1453 - accuracy: 0.9460 - val_loss: 0.1476 - val_accuracy: 0.9437\n",
            "Epoch 41/100\n",
            "10/10 [==============================] - 0s 6ms/step - loss: 0.1508 - accuracy: 0.9413 - val_loss: 0.1691 - val_accuracy: 0.9155\n",
            "Epoch 42/100\n",
            "10/10 [==============================] - 0s 6ms/step - loss: 0.1575 - accuracy: 0.9413 - val_loss: 0.1392 - val_accuracy: 0.9437\n",
            "Epoch 43/100\n",
            "10/10 [==============================] - 0s 6ms/step - loss: 0.1422 - accuracy: 0.9507 - val_loss: 0.1477 - val_accuracy: 0.9577\n",
            "Epoch 44/100\n",
            "10/10 [==============================] - 0s 6ms/step - loss: 0.1447 - accuracy: 0.9460 - val_loss: 0.1769 - val_accuracy: 0.9155\n",
            "Epoch 45/100\n",
            "10/10 [==============================] - 0s 6ms/step - loss: 0.1498 - accuracy: 0.9413 - val_loss: 0.2176 - val_accuracy: 0.9014\n",
            "Epoch 46/100\n",
            "10/10 [==============================] - 0s 6ms/step - loss: 0.1427 - accuracy: 0.9460 - val_loss: 0.1879 - val_accuracy: 0.9155\n",
            "Epoch 47/100\n",
            "10/10 [==============================] - 0s 6ms/step - loss: 0.1442 - accuracy: 0.9484 - val_loss: 0.1592 - val_accuracy: 0.9296\n",
            "Epoch 48/100\n",
            "10/10 [==============================] - 0s 6ms/step - loss: 0.1421 - accuracy: 0.9507 - val_loss: 0.1425 - val_accuracy: 0.9577\n",
            "Epoch 49/100\n",
            "10/10 [==============================] - 0s 7ms/step - loss: 0.1490 - accuracy: 0.9437 - val_loss: 0.1450 - val_accuracy: 0.9437\n",
            "Epoch 50/100\n",
            "10/10 [==============================] - 0s 7ms/step - loss: 0.1440 - accuracy: 0.9460 - val_loss: 0.1770 - val_accuracy: 0.9296\n",
            "Epoch 51/100\n",
            "10/10 [==============================] - 0s 7ms/step - loss: 0.1453 - accuracy: 0.9437 - val_loss: 0.1346 - val_accuracy: 0.9577\n",
            "Epoch 52/100\n",
            "10/10 [==============================] - 0s 7ms/step - loss: 0.1455 - accuracy: 0.9507 - val_loss: 0.1329 - val_accuracy: 0.9718\n",
            "Epoch 53/100\n",
            "10/10 [==============================] - 0s 7ms/step - loss: 0.1455 - accuracy: 0.9484 - val_loss: 0.1735 - val_accuracy: 0.9296\n",
            "Epoch 54/100\n",
            "10/10 [==============================] - 0s 7ms/step - loss: 0.1431 - accuracy: 0.9437 - val_loss: 0.1496 - val_accuracy: 0.9437\n",
            "Epoch 55/100\n",
            "10/10 [==============================] - 0s 7ms/step - loss: 0.1431 - accuracy: 0.9507 - val_loss: 0.1462 - val_accuracy: 0.9437\n",
            "Epoch 56/100\n",
            "10/10 [==============================] - 0s 8ms/step - loss: 0.1401 - accuracy: 0.9484 - val_loss: 0.1292 - val_accuracy: 0.9577\n",
            "Epoch 57/100\n",
            "10/10 [==============================] - 0s 7ms/step - loss: 0.1394 - accuracy: 0.9507 - val_loss: 0.1856 - val_accuracy: 0.9155\n",
            "Epoch 58/100\n",
            "10/10 [==============================] - 0s 7ms/step - loss: 0.1411 - accuracy: 0.9413 - val_loss: 0.1586 - val_accuracy: 0.9155\n",
            "Epoch 59/100\n",
            "10/10 [==============================] - 0s 8ms/step - loss: 0.1396 - accuracy: 0.9460 - val_loss: 0.1724 - val_accuracy: 0.9296\n",
            "Epoch 60/100\n",
            "10/10 [==============================] - 0s 7ms/step - loss: 0.1521 - accuracy: 0.9460 - val_loss: 0.1428 - val_accuracy: 0.9577\n",
            "Epoch 61/100\n",
            "10/10 [==============================] - 0s 7ms/step - loss: 0.1442 - accuracy: 0.9460 - val_loss: 0.1298 - val_accuracy: 0.9718\n",
            "Epoch 62/100\n",
            "10/10 [==============================] - 0s 7ms/step - loss: 0.1479 - accuracy: 0.9460 - val_loss: 0.1342 - val_accuracy: 0.9718\n",
            "Epoch 63/100\n",
            "10/10 [==============================] - 0s 7ms/step - loss: 0.1442 - accuracy: 0.9437 - val_loss: 0.1514 - val_accuracy: 0.9437\n",
            "Epoch 64/100\n",
            "10/10 [==============================] - 0s 6ms/step - loss: 0.1456 - accuracy: 0.9460 - val_loss: 0.1476 - val_accuracy: 0.9437\n",
            "Epoch 65/100\n",
            "10/10 [==============================] - 0s 6ms/step - loss: 0.1451 - accuracy: 0.9460 - val_loss: 0.1419 - val_accuracy: 0.9577\n",
            "Epoch 66/100\n",
            "10/10 [==============================] - 0s 6ms/step - loss: 0.1445 - accuracy: 0.9460 - val_loss: 0.1532 - val_accuracy: 0.9296\n",
            "Epoch 67/100\n",
            "10/10 [==============================] - 0s 6ms/step - loss: 0.1439 - accuracy: 0.9437 - val_loss: 0.1461 - val_accuracy: 0.9437\n",
            "Epoch 68/100\n",
            "10/10 [==============================] - 0s 6ms/step - loss: 0.1436 - accuracy: 0.9531 - val_loss: 0.1400 - val_accuracy: 0.9437\n",
            "Epoch 69/100\n",
            "10/10 [==============================] - 0s 6ms/step - loss: 0.1443 - accuracy: 0.9343 - val_loss: 0.1269 - val_accuracy: 0.9577\n",
            "Epoch 70/100\n",
            "10/10 [==============================] - 0s 6ms/step - loss: 0.1434 - accuracy: 0.9507 - val_loss: 0.1306 - val_accuracy: 0.9577\n",
            "Epoch 71/100\n",
            "10/10 [==============================] - 0s 7ms/step - loss: 0.1448 - accuracy: 0.9484 - val_loss: 0.1626 - val_accuracy: 0.9155\n",
            "Epoch 72/100\n",
            "10/10 [==============================] - 0s 7ms/step - loss: 0.1408 - accuracy: 0.9437 - val_loss: 0.1383 - val_accuracy: 0.9577\n",
            "Epoch 73/100\n",
            "10/10 [==============================] - 0s 6ms/step - loss: 0.1395 - accuracy: 0.9507 - val_loss: 0.1513 - val_accuracy: 0.9437\n",
            "Epoch 74/100\n",
            "10/10 [==============================] - 0s 6ms/step - loss: 0.1458 - accuracy: 0.9437 - val_loss: 0.1506 - val_accuracy: 0.9296\n",
            "Epoch 75/100\n",
            "10/10 [==============================] - 0s 6ms/step - loss: 0.1398 - accuracy: 0.9507 - val_loss: 0.1484 - val_accuracy: 0.9437\n",
            "Epoch 76/100\n",
            "10/10 [==============================] - 0s 6ms/step - loss: 0.1520 - accuracy: 0.9437 - val_loss: 0.1489 - val_accuracy: 0.9437\n",
            "Epoch 77/100\n",
            "10/10 [==============================] - 0s 6ms/step - loss: 0.1445 - accuracy: 0.9460 - val_loss: 0.1423 - val_accuracy: 0.9718\n",
            "Epoch 78/100\n",
            "10/10 [==============================] - 0s 6ms/step - loss: 0.1467 - accuracy: 0.9413 - val_loss: 0.1480 - val_accuracy: 0.9437\n",
            "Epoch 79/100\n",
            "10/10 [==============================] - 0s 6ms/step - loss: 0.1416 - accuracy: 0.9437 - val_loss: 0.1554 - val_accuracy: 0.9437\n",
            "Epoch 80/100\n",
            "10/10 [==============================] - 0s 6ms/step - loss: 0.1379 - accuracy: 0.9554 - val_loss: 0.1430 - val_accuracy: 0.9437\n",
            "Epoch 81/100\n",
            "10/10 [==============================] - 0s 6ms/step - loss: 0.1401 - accuracy: 0.9460 - val_loss: 0.1454 - val_accuracy: 0.9437\n",
            "Epoch 82/100\n",
            "10/10 [==============================] - 0s 6ms/step - loss: 0.1440 - accuracy: 0.9484 - val_loss: 0.1406 - val_accuracy: 0.9577\n",
            "Epoch 83/100\n",
            "10/10 [==============================] - 0s 6ms/step - loss: 0.1338 - accuracy: 0.9507 - val_loss: 0.2224 - val_accuracy: 0.9014\n",
            "Epoch 84/100\n",
            "10/10 [==============================] - 0s 6ms/step - loss: 0.1466 - accuracy: 0.9460 - val_loss: 0.1680 - val_accuracy: 0.9155\n",
            "Epoch 85/100\n",
            "10/10 [==============================] - 0s 23ms/step - loss: 0.1366 - accuracy: 0.9437 - val_loss: 0.1301 - val_accuracy: 0.9718\n",
            "Epoch 86/100\n",
            "10/10 [==============================] - 0s 7ms/step - loss: 0.1416 - accuracy: 0.9507 - val_loss: 0.1815 - val_accuracy: 0.9155\n",
            "Epoch 87/100\n",
            "10/10 [==============================] - 0s 6ms/step - loss: 0.1400 - accuracy: 0.9484 - val_loss: 0.1530 - val_accuracy: 0.9296\n",
            "Epoch 88/100\n",
            "10/10 [==============================] - 0s 6ms/step - loss: 0.1580 - accuracy: 0.9366 - val_loss: 0.1373 - val_accuracy: 0.9437\n",
            "Epoch 89/100\n",
            "10/10 [==============================] - 0s 6ms/step - loss: 0.1397 - accuracy: 0.9460 - val_loss: 0.1316 - val_accuracy: 0.9718\n",
            "Epoch 90/100\n",
            "10/10 [==============================] - 0s 6ms/step - loss: 0.1449 - accuracy: 0.9507 - val_loss: 0.1403 - val_accuracy: 0.9437\n",
            "Epoch 91/100\n",
            "10/10 [==============================] - 0s 6ms/step - loss: 0.1489 - accuracy: 0.9484 - val_loss: 0.1268 - val_accuracy: 0.9718\n",
            "Epoch 92/100\n",
            "10/10 [==============================] - 0s 5ms/step - loss: 0.1421 - accuracy: 0.9484 - val_loss: 0.1829 - val_accuracy: 0.9296\n",
            "Epoch 93/100\n",
            "10/10 [==============================] - 0s 6ms/step - loss: 0.1441 - accuracy: 0.9484 - val_loss: 0.1474 - val_accuracy: 0.9296\n",
            "Epoch 94/100\n",
            "10/10 [==============================] - 0s 6ms/step - loss: 0.1396 - accuracy: 0.9366 - val_loss: 0.1615 - val_accuracy: 0.9296\n",
            "Epoch 95/100\n",
            "10/10 [==============================] - 0s 6ms/step - loss: 0.1490 - accuracy: 0.9390 - val_loss: 0.1346 - val_accuracy: 0.9718\n",
            "Epoch 96/100\n",
            "10/10 [==============================] - 0s 6ms/step - loss: 0.1442 - accuracy: 0.9531 - val_loss: 0.1425 - val_accuracy: 0.9577\n",
            "Epoch 97/100\n",
            "10/10 [==============================] - 0s 6ms/step - loss: 0.1411 - accuracy: 0.9484 - val_loss: 0.1570 - val_accuracy: 0.9296\n",
            "Epoch 98/100\n",
            "10/10 [==============================] - 0s 6ms/step - loss: 0.1421 - accuracy: 0.9531 - val_loss: 0.1503 - val_accuracy: 0.9296\n",
            "Epoch 99/100\n",
            "10/10 [==============================] - 0s 7ms/step - loss: 0.1383 - accuracy: 0.9484 - val_loss: 0.1690 - val_accuracy: 0.9296\n",
            "Epoch 100/100\n",
            "10/10 [==============================] - 0s 7ms/step - loss: 0.1410 - accuracy: 0.9507 - val_loss: 0.1472 - val_accuracy: 0.9577\n"
          ],
          "name": "stdout"
        }
      ]
    },
    {
      "cell_type": "code",
      "metadata": {
        "colab": {
          "base_uri": "https://localhost:8080/"
        },
        "id": "c0mpK3RMwiv9",
        "outputId": "13c7e564-a5ba-4fdc-c797-0cffcbf1773a"
      },
      "source": [
        "model.evaluate(x_test_fa, y_test_fa)"
      ],
      "execution_count": 224,
      "outputs": [
        {
          "output_type": "stream",
          "text": [
            "3/3 [==============================] - 0s 3ms/step - loss: 0.1687 - accuracy: 0.9167\n"
          ],
          "name": "stdout"
        },
        {
          "output_type": "execute_result",
          "data": {
            "text/plain": [
              "[0.16871920228004456, 0.9166666865348816]"
            ]
          },
          "metadata": {
            "tags": []
          },
          "execution_count": 224
        }
      ]
    },
    {
      "cell_type": "code",
      "metadata": {
        "id": "I4OqGb9Dwm7-"
      },
      "source": [
        "import matplotlib.pyplot as plt"
      ],
      "execution_count": 218,
      "outputs": []
    },
    {
      "cell_type": "code",
      "metadata": {
        "colab": {
          "base_uri": "https://localhost:8080/",
          "height": 325
        },
        "id": "wEzONUAmwpm2",
        "outputId": "60475238-d51a-409e-c0b8-3cbb0671193b"
      },
      "source": [
        "plt.plot(H.history['loss'])\r\n",
        "plt.plot(H.history['val_loss'])\r\n",
        "plt.title('Model loss')\r\n",
        "plt.ylabel('Loss')\r\n",
        "plt.xlabel('Epoch')\r\n",
        "plt.legend(['Train', 'Val'], loc='upper right')\r\n",
        "plt.show()"
      ],
      "execution_count": 225,
      "outputs": [
        {
          "output_type": "display_data",
          "data": {
            "image/png": "[encoded data removed]",
            "text/plain": [
              "<Figure size 432x288 with 1 Axes>"
            ]
          },
          "metadata": {
            "tags": []
          }
        }
      ]
    },
    {
      "cell_type": "code",
      "metadata": {
        "colab": {
          "base_uri": "https://localhost:8080/",
          "height": 325
        },
        "id": "YQgXTO0Cwxbg",
        "outputId": "2cb3dfaf-f499-4889-ad0b-d5cec320e7e3"
      },
      "source": [
        "plt.plot(H.history['accuracy'])\r\n",
        "plt.plot(H.history['val_accuracy'])\r\n",
        "plt.title('model accuracy')\r\n",
        "plt.ylabel('accuracy')\r\n",
        "plt.xlabel('epoch')\r\n",
        "plt.legend(['train', 'test'], loc='upper left')\r\n",
        "plt.show()"
      ],
      "execution_count": 226,
      "outputs": [
        {
          "output_type": "display_data",
          "data": {
            "image/png": "[encoded data removed]",
            "text/plain": [
              "<Figure size 432x288 with 1 Axes>"
            ]
          },
          "metadata": {
            "tags": []
          }
        }
      ]
    },
    {
      "cell_type": "code",
      "metadata": {
        "colab": {
          "base_uri": "https://localhost:8080/",
          "height": 302
        },
        "id": "nsu-ZLXzG1fS",
        "outputId": "d0c1fb77-b282-4b50-e548-47f30bd3fd57"
      },
      "source": [
        "plt.scatter(x_factor[:,0],x_factor[:,1],c=y,alpha=.8,edgecolors='none')"
      ],
      "execution_count": 203,
      "outputs": [
        {
          "output_type": "execute_result",
          "data": {
            "text/plain": [
              "<matplotlib.collections.PathCollection at 0x7f4e04935e80>"
            ]
          },
          "metadata": {
            "tags": []
          },
          "execution_count": 203
        },
        {
          "output_type": "display_data",
          "data": {
            "image/png": "[encoded data removed]",
            "text/plain": [
              "<Figure size 432x288 with 1 Axes>"
            ]
          },
          "metadata": {
            "tags": []
          }
        }
      ]
    }
  ]
}