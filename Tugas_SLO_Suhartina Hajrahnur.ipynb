{
  "nbformat": 4,
  "nbformat_minor": 0,
  "metadata": {
    "colab": {
      "name": "Untitled1.ipynb",
      "provenance": [],
      "authorship_tag": "ABX9TyPDiw6NDS/UsaoQPV605JeE",
      "include_colab_link": true
    },
    "kernelspec": {
      "name": "python3",
      "display_name": "Python 3"
    }
  },
  "cells": [
    {
      "cell_type": "markdown",
      "metadata": {
        "id": "view-in-github",
        "colab_type": "text"
      },
      "source": [
        "<a href=\"https://colab.research.google.com/github/ajeworld/3Scenes-NN/blob/main/Tugas_SLO_Suhartina%20Hajrahnur.ipynb\" target=\"_parent\"><img src=\"https://colab.research.google.com/assets/colab-badge.svg\" alt=\"Open In Colab\"/></a>"
      ]
    },
    {
      "cell_type": "code",
      "metadata": {
        "colab": {
          "base_uri": "https://localhost:8080/"
        },
        "id": "Ec8Wl6MWMQvv",
        "outputId": "1313c7ba-ef3f-456d-f1d4-b54874391c2d"
      },
      "source": [
        "from google.colab import drive\n",
        "drive.mount('/content/drive')"
      ],
      "execution_count": 1,
      "outputs": [
        {
          "output_type": "stream",
          "text": [
            "Mounted at /content/drive\n"
          ],
          "name": "stdout"
        }
      ]
    },
    {
      "cell_type": "code",
      "metadata": {
        "colab": {
          "base_uri": "https://localhost:8080/"
        },
        "id": "5eNgcjjzMpC8",
        "outputId": "448b4171-365e-4d10-bd0e-9cf5a9e79c4d"
      },
      "source": [
        "cd /content/drive/MyDrive/"
      ],
      "execution_count": 2,
      "outputs": [
        {
          "output_type": "stream",
          "text": [
            "/content/drive/MyDrive\n"
          ],
          "name": "stdout"
        }
      ]
    },
    {
      "cell_type": "code",
      "metadata": {
        "id": "JM_CvljfMtIt"
      },
      "source": [
        "ls"
      ],
      "execution_count": null,
      "outputs": []
    },
    {
      "cell_type": "code",
      "metadata": {
        "id": "RplSykEDMyZ0"
      },
      "source": [
        "# import the necessary packages\n",
        "from keras.models import Sequential\n",
        "from keras.layers.convolutional import Conv2D\n",
        "from keras.layers.convolutional import MaxPooling2D\n",
        "from keras.layers.core import Activation\n",
        "from keras.layers.core import Flatten\n",
        "from keras.layers.core import Dense\n",
        "from keras.optimizers import Adam, SGD, RMSprop\n",
        "from sklearn.preprocessing import LabelBinarizer\n",
        "from sklearn.model_selection import train_test_split\n",
        "from sklearn.metrics import classification_report\n",
        "from PIL import Image\n",
        "from imutils import paths\n",
        "import numpy as np\n",
        "import os"
      ],
      "execution_count": 5,
      "outputs": []
    },
    {
      "cell_type": "code",
      "metadata": {
        "colab": {
          "base_uri": "https://localhost:8080/"
        },
        "id": "CX0bSnj5M32r",
        "outputId": "0fc66652-0da1-4111-8c38-ed539d31b363"
      },
      "source": [
        "# grab all image paths in the input dataset directory, then initialize\n",
        "# our list of images and corresponding class labels\n",
        "print(\"[INFO] loading images...\")\n",
        "imagePaths = paths.list_images(\"leaf\")\n",
        "data = []\n",
        "labels = []"
      ],
      "execution_count": 12,
      "outputs": [
        {
          "output_type": "stream",
          "text": [
            "[INFO] loading images...\n"
          ],
          "name": "stdout"
        }
      ]
    },
    {
      "cell_type": "code",
      "metadata": {
        "id": "HPpiu4QkM-UW"
      },
      "source": [
        "# loop over our input images\n",
        "for imagePath in imagePaths:\n",
        "\t# load the input image from disk, resize it to 32x32 pixels, scale\n",
        "\t# the pixel intensities to the range [0, 1], and then update our\n",
        "\t# images list\n",
        "\timage = Image.open(imagePath)\n",
        "\timage = np.array(image.resize((224, 224))) / 255.0 #normalisasi\n",
        "\tdata.append(image)\n",
        "\n",
        "\t# extract the class label from the file path and update the\n",
        "\t# labels list\n",
        "\tlabel = imagePath.split(os.path.sep)[-2]\n",
        "\tlabels.append(label)"
      ],
      "execution_count": 13,
      "outputs": []
    },
    {
      "cell_type": "code",
      "metadata": {
        "colab": {
          "base_uri": "https://localhost:8080/"
        },
        "id": "GMt-JTc_NISk",
        "outputId": "ef614876-85b2-4941-db77-e9d8a68374cd"
      },
      "source": [
        "print(labels)"
      ],
      "execution_count": 14,
      "outputs": [
        {
          "output_type": "stream",
          "text": [
            "['GMB_5', 'GMB_5', 'GMB_5', 'GMB_5', 'GMB_5', 'GMB_5', 'GMB_5', 'GMB_5', 'GMB_5', 'GMB_5', 'GMB_5', 'GMB_5', 'GMB_5', 'GMB_5', 'GMB_5', 'GMB_5', 'GMB_5', 'GMB_5', 'GMB_5', 'GMB_5', 'GMB_5', 'GMB_5', 'GMB_5', 'GMB_5', 'GMB_5', 'GMB_5', 'GMB_5', 'GMB_5', 'GMB_5', 'GMB_5', 'GMB_5', 'GMB_5', 'GMB_5', 'GMB_5', 'GMB_5', 'GMB_5', 'GMB_5', 'GMB_5', 'GMB_5', 'GMB_5', 'GMB_5', 'GMB_5', 'GMB_5', 'GMB_5', 'GMB_5', 'GMB_5', 'GMB_5', 'GMB_5', 'GMB_5', 'GMB_5', 'GMB_5', 'GMB_5', 'GMB_5', 'GMB_5', 'GMB_5', 'GMB_5', 'GMB_5', 'GMB_5', 'GMB_5', 'GMB_5', 'GMB_5', 'GMB_5', 'GMB_5', 'GMB_5', 'GMB_5', 'GMB_5', 'GMB_5', 'GMB_5', 'GMB_5', 'GMB_5', 'GMB_5', 'GMB_5', 'GMB_5', 'GMB_5', 'GMB_5', 'GMB_5', 'GMB_5', 'GMB_5', 'GMB_5', 'GMB_5', 'GMB_5', 'GMB_5', 'GMB_5', 'GMB_5', 'GMB_5', 'GMB_5', 'GMB_5', 'GMB_5', 'GMB_5', 'GMB_5', 'GMB_5', 'GMB_5', 'GMB_5', 'GMB_5', 'GMB_5', 'GMB_5', 'GMB_5', 'GMB_5', 'GMB_5', 'GMB_5', 'GMB_5', 'GMB_5', 'GMB_5', 'GMB_5', 'GMB_5', 'GMB_5', 'GMB_5', 'GMB_5', 'GMB_5', 'GMB_5', 'GMB_5', 'GMB_5', 'GMB_5', 'GMB_5', 'GMB_5', 'GMB_5', 'GMB_5', 'GMB_5', 'GMB_5', 'GMB_5', 'GMB_5', 'GMB_1', 'GMB_1', 'GMB_1', 'GMB_1', 'GMB_1', 'GMB_1', 'GMB_1', 'GMB_1', 'GMB_1', 'GMB_1', 'GMB_1', 'GMB_1', 'GMB_1', 'GMB_1', 'GMB_1', 'GMB_1', 'GMB_1', 'GMB_1', 'GMB_1', 'GMB_1', 'GMB_1', 'GMB_1', 'GMB_1', 'GMB_1', 'GMB_1', 'GMB_1', 'GMB_1', 'GMB_1', 'GMB_1', 'GMB_1', 'GMB_1', 'GMB_1', 'GMB_1', 'GMB_1', 'GMB_1', 'GMB_1', 'GMB_1', 'GMB_1', 'GMB_1', 'GMB_1', 'GMB_1', 'GMB_1', 'GMB_1', 'GMB_1', 'GMB_1', 'GMB_1', 'GMB_1', 'GMB_1', 'GMB_1', 'GMB_1', 'GMB_1', 'GMB_1', 'GMB_1', 'GMB_1', 'GMB_1', 'GMB_1', 'GMB_1', 'GMB_1', 'GMB_1', 'GMB_1', 'GMB_1', 'GMB_1', 'GMB_1', 'GMB_1', 'GMB_1', 'GMB_1', 'GMB_1', 'GMB_1', 'GMB_1', 'GMB_1', 'GMB_1', 'GMB_1', 'GMB_1', 'GMB_1', 'GMB_1', 'GMB_1', 'GMB_1', 'GMB_1', 'GMB_1', 'GMB_1', 'GMB_1', 'GMB_1', 'GMB_1', 'GMB_1', 'GMB_1', 'GMB_1', 'GMB_1', 'GMB_1', 'GMB_1', 'GMB_1', 'GMB_1', 'GMB_1', 'GMB_1', 'GMB_1', 'GMB_1', 'GMB_1', 'GMB_1', 'GMB_1', 'GMB_1', 'GMB_1', 'GMB_1', 'GMB_1', 'GMB_1', 'GMB_1', 'GMB_1', 'GMB_1', 'GMB_1', 'GMB_1', 'GMB_1', 'GMB_1', 'GMB_1', 'GMB_1', 'GMB_1', 'GMB_1', 'GMB_1', 'GMB_1', 'GMB_3', 'GMB_3', 'GMB_3', 'GMB_3', 'GMB_3', 'GMB_3', 'GMB_3', 'GMB_3', 'GMB_3', 'GMB_3', 'GMB_3', 'GMB_3', 'GMB_3', 'GMB_3', 'GMB_3', 'GMB_3', 'GMB_3', 'GMB_3', 'GMB_3', 'GMB_3', 'GMB_3', 'GMB_3', 'GMB_3', 'GMB_3', 'GMB_3', 'GMB_3', 'GMB_3', 'GMB_3', 'GMB_3', 'GMB_3', 'GMB_3', 'GMB_3', 'GMB_3', 'GMB_3', 'GMB_3', 'GMB_3', 'GMB_3', 'GMB_3', 'GMB_3', 'GMB_3', 'GMB_3', 'GMB_3', 'GMB_3', 'GMB_3', 'GMB_3', 'GMB_3', 'GMB_3', 'GMB_3', 'GMB_3', 'GMB_3', 'GMB_3', 'GMB_3', 'GMB_3', 'GMB_3', 'GMB_3', 'GMB_3', 'GMB_3', 'GMB_3', 'GMB_3', 'GMB_3', 'GMB_3', 'GMB_3', 'GMB_3', 'GMB_3', 'GMB_3', 'GMB_3', 'GMB_3', 'GMB_3', 'GMB_3', 'GMB_3', 'GMB_3', 'GMB_3', 'GMB_3', 'GMB_3', 'GMB_3', 'GMB_3', 'GMB_3', 'GMB_3', 'GMB_3', 'GMB_3', 'GMB_3', 'GMB_3', 'GMB_3', 'GMB_3', 'GMB_3', 'GMB_3', 'GMB_3', 'GMB_3', 'GMB_3', 'GMB_3', 'GMB_3', 'GMB_3', 'GMB_3', 'GMB_3', 'GMB_3', 'GMB_3', 'GMB_3', 'GMB_3', 'GMB_3', 'GMB_3', 'GMB_3', 'GMB_3', 'GMB_3', 'GMB_3', 'GMB_3', 'GMB_3', 'GMB_3', 'GMB_3', 'GMB_3', 'GMB_3', 'GMB_3', 'GMB_3', 'GMB_9', 'GMB_9', 'GMB_9', 'GMB_9', 'GMB_9', 'GMB_9', 'GMB_9', 'GMB_9', 'GMB_9', 'GMB_9', 'GMB_9', 'GMB_9', 'GMB_9', 'GMB_9', 'GMB_9', 'GMB_9', 'GMB_9', 'GMB_9', 'GMB_9', 'GMB_9', 'GMB_9', 'GMB_9', 'GMB_9', 'GMB_9', 'GMB_9', 'GMB_9', 'GMB_9', 'GMB_9', 'GMB_9', 'GMB_9', 'GMB_9', 'GMB_9', 'GMB_9', 'GMB_9', 'GMB_9', 'GMB_9', 'GMB_9', 'GMB_9', 'GMB_9', 'GMB_9', 'GMB_9', 'GMB_9', 'GMB_9', 'GMB_9', 'GMB_9', 'GMB_9', 'GMB_9', 'GMB_9', 'GMB_9', 'GMB_9', 'GMB_9', 'GMB_9', 'GMB_9', 'GMB_9', 'GMB_9', 'GMB_9', 'GMB_9', 'GMB_9', 'GMB_9', 'GMB_9', 'GMB_9', 'GMB_9', 'GMB_9', 'GMB_9', 'GMB_9', 'GMB_9', 'GMB_9', 'GMB_9', 'GMB_9', 'GMB_9', 'GMB_9', 'GMB_9', 'GMB_9', 'GMB_9', 'GMB_9', 'GMB_9', 'GMB_9', 'GMB_9', 'GMB_9', 'GMB_9', 'GMB_9', 'GMB_9', 'GMB_9', 'GMB_9', 'GMB_9', 'GMB_9', 'GMB_9', 'GMB_9', 'GMB_9', 'GMB_9', 'GMB_9', 'GMB_9', 'GMB_9', 'GMB_9', 'GMB_9', 'GMB_9', 'GMB_9', 'GMB_9', 'GMB_9', 'GMB_9', 'GMB_9', 'GMB_9', 'GMB_9', 'GMB_9', 'GMB_9', 'GMB_9', 'GMB_9', 'GMB_9', 'GMB_9', 'GMB_9', 'GMB_9', 'GMB_9', 'GMB_9', 'GMB_9', 'GMB_9', 'GMB_7', 'GMB_7', 'GMB_7', 'GMB_7', 'GMB_7', 'GMB_7', 'GMB_7', 'GMB_7', 'GMB_7', 'GMB_7', 'GMB_7', 'GMB_7', 'GMB_7', 'GMB_7', 'GMB_7', 'GMB_7', 'GMB_7', 'GMB_7', 'GMB_7', 'GMB_7', 'GMB_7', 'GMB_7', 'GMB_7', 'GMB_7', 'GMB_7', 'GMB_7', 'GMB_7', 'GMB_7', 'GMB_7', 'GMB_7', 'GMB_7', 'GMB_7', 'GMB_7', 'GMB_7', 'GMB_7', 'GMB_7', 'GMB_7', 'GMB_7', 'GMB_7', 'GMB_7', 'GMB_7', 'GMB_7', 'GMB_7', 'GMB_7', 'GMB_7', 'GMB_7', 'GMB_7', 'GMB_7', 'GMB_7', 'GMB_7', 'GMB_7', 'GMB_7', 'GMB_7', 'GMB_7', 'GMB_7', 'GMB_7', 'GMB_7', 'GMB_7', 'GMB_7', 'GMB_7', 'GMB_7', 'GMB_7', 'GMB_7', 'GMB_7', 'GMB_7', 'GMB_7', 'GMB_7', 'GMB_7', 'GMB_7', 'GMB_7', 'GMB_7', 'GMB_7', 'GMB_7', 'GMB_7', 'GMB_7', 'GMB_7', 'GMB_7', 'GMB_7', 'GMB_7', 'GMB_7', 'GMB_7', 'GMB_7', 'GMB_7', 'GMB_7', 'GMB_7', 'GMB_7', 'GMB_7', 'GMB_7', 'GMB_7', 'GMB_7', 'GMB_7', 'GMB_7', 'GMB_7', 'GMB_7', 'GMB_7', 'GMB_7', 'GMB_7', 'GMB_7', 'GMB_7', 'GMB_7', 'GMB_7', 'GMB_7', 'GMB_7', 'GMB_7', 'GMB_7', 'GMB_7', 'GMB_7', 'GMB_7', 'GMB_7', 'GMB_7', 'GMB_7', 'GMB_7', 'GMB_7', 'GMB_7', 'GMB_7', 'GMB_7', 'GMB_7', 'GMB_7', 'GMB_7', 'GMB_7', 'GMB_7']\n"
          ],
          "name": "stdout"
        }
      ]
    },
    {
      "cell_type": "code",
      "metadata": {
        "id": "790dwq8kS9iC"
      },
      "source": [
        "# encode the labels, converting them from strings to integers\n",
        "lb = LabelBinarizer()\n",
        "labels = lb.fit_transform(labels)"
      ],
      "execution_count": 15,
      "outputs": []
    },
    {
      "cell_type": "code",
      "metadata": {
        "colab": {
          "base_uri": "https://localhost:8080/"
        },
        "id": "SKvhxqNNTARr",
        "outputId": "a8a3d10c-93fe-426e-92c6-576d5562c165"
      },
      "source": [
        "print(labels)"
      ],
      "execution_count": 16,
      "outputs": [
        {
          "output_type": "stream",
          "text": [
            "[[0 0 1 0 0]\n",
            " [0 0 1 0 0]\n",
            " [0 0 1 0 0]\n",
            " ...\n",
            " [0 0 0 1 0]\n",
            " [0 0 0 1 0]\n",
            " [0 0 0 1 0]]\n"
          ],
          "name": "stdout"
        }
      ]
    },
    {
      "cell_type": "code",
      "metadata": {
        "colab": {
          "base_uri": "https://localhost:8080/"
        },
        "id": "98le396iTA1S",
        "outputId": "4e43262e-34a2-4784-d103-4f4bb2c722c6"
      },
      "source": [
        "# perform a training and testing split, using 75% of the data for\n",
        "# training and 25% for evaluation\n",
        "(trainX, testX, trainY, testY) = train_test_split(np.array(data),\tnp.array(labels), test_size=0.25, random_state=2040, shuffle=True)\n",
        "print(trainX.shape)\n",
        "print(testX.shape)"
      ],
      "execution_count": 17,
      "outputs": [
        {
          "output_type": "stream",
          "text": [
            "(438, 224, 224, 3)\n",
            "(147, 224, 224, 3)\n"
          ],
          "name": "stdout"
        }
      ]
    },
    {
      "cell_type": "code",
      "metadata": {
        "id": "KTv9kAGXTCvs"
      },
      "source": [
        "from keras.applications.mobilenet import MobileNet\n",
        "from keras.callbacks import EarlyStopping, ModelCheckpoint\n",
        "from keras.models import Model\n",
        "from keras.layers import GlobalAveragePooling2D, BatchNormalization"
      ],
      "execution_count": 18,
      "outputs": []
    },
    {
      "cell_type": "code",
      "metadata": {
        "colab": {
          "base_uri": "https://localhost:8080/"
        },
        "id": "tYEUx89hTGKq",
        "outputId": "544ec132-cd94-4fad-f96e-b7703e1a635c"
      },
      "source": [
        "from keras.layers import Dropout\n",
        "base_model = MobileNet(weights='imagenet', include_top=False)\n",
        "x = base_model.output\n",
        "x = GlobalAveragePooling2D()(x)\n",
        "x = Dropout(0.25)(x)\n",
        "x = BatchNormalization()(x)\n",
        "x = Dense(512, activation='relu')(x)\n",
        "out = Dense(5, activation='softmax')(x)\n",
        "\n",
        "model = Model(inputs=base_model.input, outputs=out)\n",
        "model.summary()"
      ],
      "execution_count": 19,
      "outputs": [
        {
          "output_type": "stream",
          "text": [
            "WARNING:tensorflow:`input_shape` is undefined or non-square, or `rows` is not in [128, 160, 192, 224]. Weights for input shape (224, 224) will be loaded as the default.\n",
            "Downloading data from https://storage.googleapis.com/tensorflow/keras-applications/mobilenet/mobilenet_1_0_224_tf_no_top.h5\n",
            "17227776/17225924 [==============================] - 0s 0us/step\n",
            "Model: \"functional_1\"\n",
            "_________________________________________________________________\n",
            "Layer (type)                 Output Shape              Param #   \n",
            "=================================================================\n",
            "input_1 (InputLayer)         [(None, None, None, 3)]   0         \n",
            "_________________________________________________________________\n",
            "conv1_pad (ZeroPadding2D)    (None, None, None, 3)     0         \n",
            "_________________________________________________________________\n",
            "conv1 (Conv2D)               (None, None, None, 32)    864       \n",
            "_________________________________________________________________\n",
            "conv1_bn (BatchNormalization (None, None, None, 32)    128       \n",
            "_________________________________________________________________\n",
            "conv1_relu (ReLU)            (None, None, None, 32)    0         \n",
            "_________________________________________________________________\n",
            "conv_dw_1 (DepthwiseConv2D)  (None, None, None, 32)    288       \n",
            "_________________________________________________________________\n",
            "conv_dw_1_bn (BatchNormaliza (None, None, None, 32)    128       \n",
            "_________________________________________________________________\n",
            "conv_dw_1_relu (ReLU)        (None, None, None, 32)    0         \n",
            "_________________________________________________________________\n",
            "conv_pw_1 (Conv2D)           (None, None, None, 64)    2048      \n",
            "_________________________________________________________________\n",
            "conv_pw_1_bn (BatchNormaliza (None, None, None, 64)    256       \n",
            "_________________________________________________________________\n",
            "conv_pw_1_relu (ReLU)        (None, None, None, 64)    0         \n",
            "_________________________________________________________________\n",
            "conv_pad_2 (ZeroPadding2D)   (None, None, None, 64)    0         \n",
            "_________________________________________________________________\n",
            "conv_dw_2 (DepthwiseConv2D)  (None, None, None, 64)    576       \n",
            "_________________________________________________________________\n",
            "conv_dw_2_bn (BatchNormaliza (None, None, None, 64)    256       \n",
            "_________________________________________________________________\n",
            "conv_dw_2_relu (ReLU)        (None, None, None, 64)    0         \n",
            "_________________________________________________________________\n",
            "conv_pw_2 (Conv2D)           (None, None, None, 128)   8192      \n",
            "_________________________________________________________________\n",
            "conv_pw_2_bn (BatchNormaliza (None, None, None, 128)   512       \n",
            "_________________________________________________________________\n",
            "conv_pw_2_relu (ReLU)        (None, None, None, 128)   0         \n",
            "_________________________________________________________________\n",
            "conv_dw_3 (DepthwiseConv2D)  (None, None, None, 128)   1152      \n",
            "_________________________________________________________________\n",
            "conv_dw_3_bn (BatchNormaliza (None, None, None, 128)   512       \n",
            "_________________________________________________________________\n",
            "conv_dw_3_relu (ReLU)        (None, None, None, 128)   0         \n",
            "_________________________________________________________________\n",
            "conv_pw_3 (Conv2D)           (None, None, None, 128)   16384     \n",
            "_________________________________________________________________\n",
            "conv_pw_3_bn (BatchNormaliza (None, None, None, 128)   512       \n",
            "_________________________________________________________________\n",
            "conv_pw_3_relu (ReLU)        (None, None, None, 128)   0         \n",
            "_________________________________________________________________\n",
            "conv_pad_4 (ZeroPadding2D)   (None, None, None, 128)   0         \n",
            "_________________________________________________________________\n",
            "conv_dw_4 (DepthwiseConv2D)  (None, None, None, 128)   1152      \n",
            "_________________________________________________________________\n",
            "conv_dw_4_bn (BatchNormaliza (None, None, None, 128)   512       \n",
            "_________________________________________________________________\n",
            "conv_dw_4_relu (ReLU)        (None, None, None, 128)   0         \n",
            "_________________________________________________________________\n",
            "conv_pw_4 (Conv2D)           (None, None, None, 256)   32768     \n",
            "_________________________________________________________________\n",
            "conv_pw_4_bn (BatchNormaliza (None, None, None, 256)   1024      \n",
            "_________________________________________________________________\n",
            "conv_pw_4_relu (ReLU)        (None, None, None, 256)   0         \n",
            "_________________________________________________________________\n",
            "conv_dw_5 (DepthwiseConv2D)  (None, None, None, 256)   2304      \n",
            "_________________________________________________________________\n",
            "conv_dw_5_bn (BatchNormaliza (None, None, None, 256)   1024      \n",
            "_________________________________________________________________\n",
            "conv_dw_5_relu (ReLU)        (None, None, None, 256)   0         \n",
            "_________________________________________________________________\n",
            "conv_pw_5 (Conv2D)           (None, None, None, 256)   65536     \n",
            "_________________________________________________________________\n",
            "conv_pw_5_bn (BatchNormaliza (None, None, None, 256)   1024      \n",
            "_________________________________________________________________\n",
            "conv_pw_5_relu (ReLU)        (None, None, None, 256)   0         \n",
            "_________________________________________________________________\n",
            "conv_pad_6 (ZeroPadding2D)   (None, None, None, 256)   0         \n",
            "_________________________________________________________________\n",
            "conv_dw_6 (DepthwiseConv2D)  (None, None, None, 256)   2304      \n",
            "_________________________________________________________________\n",
            "conv_dw_6_bn (BatchNormaliza (None, None, None, 256)   1024      \n",
            "_________________________________________________________________\n",
            "conv_dw_6_relu (ReLU)        (None, None, None, 256)   0         \n",
            "_________________________________________________________________\n",
            "conv_pw_6 (Conv2D)           (None, None, None, 512)   131072    \n",
            "_________________________________________________________________\n",
            "conv_pw_6_bn (BatchNormaliza (None, None, None, 512)   2048      \n",
            "_________________________________________________________________\n",
            "conv_pw_6_relu (ReLU)        (None, None, None, 512)   0         \n",
            "_________________________________________________________________\n",
            "conv_dw_7 (DepthwiseConv2D)  (None, None, None, 512)   4608      \n",
            "_________________________________________________________________\n",
            "conv_dw_7_bn (BatchNormaliza (None, None, None, 512)   2048      \n",
            "_________________________________________________________________\n",
            "conv_dw_7_relu (ReLU)        (None, None, None, 512)   0         \n",
            "_________________________________________________________________\n",
            "conv_pw_7 (Conv2D)           (None, None, None, 512)   262144    \n",
            "_________________________________________________________________\n",
            "conv_pw_7_bn (BatchNormaliza (None, None, None, 512)   2048      \n",
            "_________________________________________________________________\n",
            "conv_pw_7_relu (ReLU)        (None, None, None, 512)   0         \n",
            "_________________________________________________________________\n",
            "conv_dw_8 (DepthwiseConv2D)  (None, None, None, 512)   4608      \n",
            "_________________________________________________________________\n",
            "conv_dw_8_bn (BatchNormaliza (None, None, None, 512)   2048      \n",
            "_________________________________________________________________\n",
            "conv_dw_8_relu (ReLU)        (None, None, None, 512)   0         \n",
            "_________________________________________________________________\n",
            "conv_pw_8 (Conv2D)           (None, None, None, 512)   262144    \n",
            "_________________________________________________________________\n",
            "conv_pw_8_bn (BatchNormaliza (None, None, None, 512)   2048      \n",
            "_________________________________________________________________\n",
            "conv_pw_8_relu (ReLU)        (None, None, None, 512)   0         \n",
            "_________________________________________________________________\n",
            "conv_dw_9 (DepthwiseConv2D)  (None, None, None, 512)   4608      \n",
            "_________________________________________________________________\n",
            "conv_dw_9_bn (BatchNormaliza (None, None, None, 512)   2048      \n",
            "_________________________________________________________________\n",
            "conv_dw_9_relu (ReLU)        (None, None, None, 512)   0         \n",
            "_________________________________________________________________\n",
            "conv_pw_9 (Conv2D)           (None, None, None, 512)   262144    \n",
            "_________________________________________________________________\n",
            "conv_pw_9_bn (BatchNormaliza (None, None, None, 512)   2048      \n",
            "_________________________________________________________________\n",
            "conv_pw_9_relu (ReLU)        (None, None, None, 512)   0         \n",
            "_________________________________________________________________\n",
            "conv_dw_10 (DepthwiseConv2D) (None, None, None, 512)   4608      \n",
            "_________________________________________________________________\n",
            "conv_dw_10_bn (BatchNormaliz (None, None, None, 512)   2048      \n",
            "_________________________________________________________________\n",
            "conv_dw_10_relu (ReLU)       (None, None, None, 512)   0         \n",
            "_________________________________________________________________\n",
            "conv_pw_10 (Conv2D)          (None, None, None, 512)   262144    \n",
            "_________________________________________________________________\n",
            "conv_pw_10_bn (BatchNormaliz (None, None, None, 512)   2048      \n",
            "_________________________________________________________________\n",
            "conv_pw_10_relu (ReLU)       (None, None, None, 512)   0         \n",
            "_________________________________________________________________\n",
            "conv_dw_11 (DepthwiseConv2D) (None, None, None, 512)   4608      \n",
            "_________________________________________________________________\n",
            "conv_dw_11_bn (BatchNormaliz (None, None, None, 512)   2048      \n",
            "_________________________________________________________________\n",
            "conv_dw_11_relu (ReLU)       (None, None, None, 512)   0         \n",
            "_________________________________________________________________\n",
            "conv_pw_11 (Conv2D)          (None, None, None, 512)   262144    \n",
            "_________________________________________________________________\n",
            "conv_pw_11_bn (BatchNormaliz (None, None, None, 512)   2048      \n",
            "_________________________________________________________________\n",
            "conv_pw_11_relu (ReLU)       (None, None, None, 512)   0         \n",
            "_________________________________________________________________\n",
            "conv_pad_12 (ZeroPadding2D)  (None, None, None, 512)   0         \n",
            "_________________________________________________________________\n",
            "conv_dw_12 (DepthwiseConv2D) (None, None, None, 512)   4608      \n",
            "_________________________________________________________________\n",
            "conv_dw_12_bn (BatchNormaliz (None, None, None, 512)   2048      \n",
            "_________________________________________________________________\n",
            "conv_dw_12_relu (ReLU)       (None, None, None, 512)   0         \n",
            "_________________________________________________________________\n",
            "conv_pw_12 (Conv2D)          (None, None, None, 1024)  524288    \n",
            "_________________________________________________________________\n",
            "conv_pw_12_bn (BatchNormaliz (None, None, None, 1024)  4096      \n",
            "_________________________________________________________________\n",
            "conv_pw_12_relu (ReLU)       (None, None, None, 1024)  0         \n",
            "_________________________________________________________________\n",
            "conv_dw_13 (DepthwiseConv2D) (None, None, None, 1024)  9216      \n",
            "_________________________________________________________________\n",
            "conv_dw_13_bn (BatchNormaliz (None, None, None, 1024)  4096      \n",
            "_________________________________________________________________\n",
            "conv_dw_13_relu (ReLU)       (None, None, None, 1024)  0         \n",
            "_________________________________________________________________\n",
            "conv_pw_13 (Conv2D)          (None, None, None, 1024)  1048576   \n",
            "_________________________________________________________________\n",
            "conv_pw_13_bn (BatchNormaliz (None, None, None, 1024)  4096      \n",
            "_________________________________________________________________\n",
            "conv_pw_13_relu (ReLU)       (None, None, None, 1024)  0         \n",
            "_________________________________________________________________\n",
            "global_average_pooling2d (Gl (None, 1024)              0         \n",
            "_________________________________________________________________\n",
            "dropout (Dropout)            (None, 1024)              0         \n",
            "_________________________________________________________________\n",
            "batch_normalization (BatchNo (None, 1024)              4096      \n",
            "_________________________________________________________________\n",
            "dense (Dense)                (None, 512)               524800    \n",
            "_________________________________________________________________\n",
            "dense_1 (Dense)              (None, 5)                 2565      \n",
            "=================================================================\n",
            "Total params: 3,760,325\n",
            "Trainable params: 3,736,389\n",
            "Non-trainable params: 23,936\n",
            "_________________________________________________________________\n"
          ],
          "name": "stdout"
        }
      ]
    },
    {
      "cell_type": "code",
      "metadata": {
        "id": "i3ewo_JnTKBy"
      },
      "source": [
        "es = EarlyStopping(monitor='val_loss',\n",
        "                   patience=5,\n",
        "                   mode='auto',\n",
        "                   restore_best_weights=True)\n",
        "checkpoint = ModelCheckpoint('best_weight_scene_mobileNet.h5',\n",
        "                             monitor='val_accuracy',\n",
        "                             verbose=1,\n",
        "                             save_best_only=True,\n",
        "                             mode='auto',)"
      ],
      "execution_count": 20,
      "outputs": []
    },
    {
      "cell_type": "code",
      "metadata": {
        "colab": {
          "base_uri": "https://localhost:8080/"
        },
        "id": "jW5JL_n5TOZa",
        "outputId": "b21b8e83-abca-4f05-ac3b-f006e8cc50c5"
      },
      "source": [
        "# train the model using the Adam optimizer\n",
        "print(\"[INFO] training network...\")\n",
        "opt = Adam(lr=1e-3, decay=1e-3 / 50)\n",
        "model.compile(loss=\"categorical_crossentropy\", optimizer=opt,\n",
        "\tmetrics=[\"accuracy\"])\n",
        "H = model.fit(trainX, trainY, validation_data=(testX, testY), epochs=300, batch_size=32, callbacks=[es, checkpoint])"
      ],
      "execution_count": 28,
      "outputs": [
        {
          "output_type": "stream",
          "text": [
            "[INFO] training network...\n",
            "Epoch 1/300\n",
            "14/14 [==============================] - ETA: 0s - loss: 0.3266 - accuracy: 0.9543\n",
            "Epoch 00001: val_accuracy did not improve from 0.77551\n",
            "14/14 [==============================] - 80s 6s/step - loss: 0.3266 - accuracy: 0.9543 - val_loss: 8.5812 - val_accuracy: 0.5578\n",
            "Epoch 2/300\n",
            "14/14 [==============================] - ETA: 0s - loss: 0.2329 - accuracy: 0.9521\n",
            "Epoch 00002: val_accuracy did not improve from 0.77551\n",
            "14/14 [==============================] - 78s 6s/step - loss: 0.2329 - accuracy: 0.9521 - val_loss: 15.4486 - val_accuracy: 0.3469\n",
            "Epoch 3/300\n",
            "14/14 [==============================] - ETA: 0s - loss: 0.0840 - accuracy: 0.9863\n",
            "Epoch 00003: val_accuracy did not improve from 0.77551\n",
            "14/14 [==============================] - 77s 6s/step - loss: 0.0840 - accuracy: 0.9863 - val_loss: 10.7811 - val_accuracy: 0.4354\n",
            "Epoch 4/300\n",
            "14/14 [==============================] - ETA: 0s - loss: 0.1047 - accuracy: 0.9749\n",
            "Epoch 00004: val_accuracy did not improve from 0.77551\n",
            "14/14 [==============================] - 77s 6s/step - loss: 0.1047 - accuracy: 0.9749 - val_loss: 8.3322 - val_accuracy: 0.5442\n",
            "Epoch 5/300\n",
            "14/14 [==============================] - ETA: 0s - loss: 0.1641 - accuracy: 0.9521\n",
            "Epoch 00005: val_accuracy improved from 0.77551 to 0.84354, saving model to best_weight_scene_mobileNet.h5\n",
            "14/14 [==============================] - 78s 6s/step - loss: 0.1641 - accuracy: 0.9521 - val_loss: 2.3904 - val_accuracy: 0.8435\n",
            "Epoch 6/300\n",
            "14/14 [==============================] - ETA: 0s - loss: 0.1546 - accuracy: 0.9658\n",
            "Epoch 00006: val_accuracy did not improve from 0.84354\n",
            "14/14 [==============================] - 78s 6s/step - loss: 0.1546 - accuracy: 0.9658 - val_loss: 2.2500 - val_accuracy: 0.8095\n",
            "Epoch 7/300\n",
            "14/14 [==============================] - ETA: 0s - loss: 0.1098 - accuracy: 0.9749\n",
            "Epoch 00007: val_accuracy did not improve from 0.84354\n",
            "14/14 [==============================] - 78s 6s/step - loss: 0.1098 - accuracy: 0.9749 - val_loss: 3.9043 - val_accuracy: 0.7143\n",
            "Epoch 8/300\n",
            "14/14 [==============================] - ETA: 0s - loss: 0.0688 - accuracy: 0.9817\n",
            "Epoch 00008: val_accuracy did not improve from 0.84354\n",
            "14/14 [==============================] - 77s 6s/step - loss: 0.0688 - accuracy: 0.9817 - val_loss: 3.8317 - val_accuracy: 0.6327\n",
            "Epoch 9/300\n",
            "14/14 [==============================] - ETA: 0s - loss: 0.0918 - accuracy: 0.9863\n",
            "Epoch 00009: val_accuracy did not improve from 0.84354\n",
            "14/14 [==============================] - 77s 6s/step - loss: 0.0918 - accuracy: 0.9863 - val_loss: 17.4819 - val_accuracy: 0.3878\n",
            "Epoch 10/300\n",
            "14/14 [==============================] - ETA: 0s - loss: 0.0772 - accuracy: 0.9840\n",
            "Epoch 00010: val_accuracy did not improve from 0.84354\n",
            "14/14 [==============================] - 78s 6s/step - loss: 0.0772 - accuracy: 0.9840 - val_loss: 10.1339 - val_accuracy: 0.5782\n",
            "Epoch 11/300\n",
            "14/14 [==============================] - ETA: 0s - loss: 0.0486 - accuracy: 0.9909\n",
            "Epoch 00011: val_accuracy did not improve from 0.84354\n",
            "14/14 [==============================] - 78s 6s/step - loss: 0.0486 - accuracy: 0.9909 - val_loss: 10.9292 - val_accuracy: 0.4558\n"
          ],
          "name": "stdout"
        }
      ]
    },
    {
      "cell_type": "code",
      "metadata": {
        "colab": {
          "base_uri": "https://localhost:8080/",
          "height": 590
        },
        "id": "g-q65YozTSEj",
        "outputId": "89bbc9aa-76c1-45ff-8950-477a027ca38c"
      },
      "source": [
        "import matplotlib.pyplot as plt\n",
        "\n",
        "print(H.history.keys())\n",
        "# summarize history for accuracy\n",
        "plt.plot(H.history['accuracy'])\n",
        "plt.plot(H.history['val_accuracy'])\n",
        "plt.title('model accuracy')\n",
        "plt.ylabel('accuracy')\n",
        "plt.xlabel('epoch')\n",
        "plt.legend(['train', 'test'], loc='upper left')\n",
        "plt.show()\n",
        "# summarize history for loss\n",
        "plt.plot(H.history['loss'])\n",
        "plt.plot(H.history['val_loss'])\n",
        "plt.title('model loss')\n",
        "plt.ylabel('loss')\n",
        "plt.xlabel('epoch')\n",
        "plt.legend(['train', 'test'], loc='upper left')\n",
        "plt.show()"
      ],
      "execution_count": 29,
      "outputs": [
        {
          "output_type": "stream",
          "text": [
            "dict_keys(['loss', 'accuracy', 'val_loss', 'val_accuracy'])\n"
          ],
          "name": "stdout"
        },
        {
          "output_type": "display_data",
          "data": {
            "image/png": "[encoded data removed]",
            "text/plain": [
              "<Figure size 432x288 with 1 Axes>"
            ]
          },
          "metadata": {
            "tags": [],
            "needs_background": "light"
          }
        },
        {
          "output_type": "display_data",
          "data": {
            "image/png": "[encoded data removed]",
            "text/plain": [
              "<Figure size 432x288 with 1 Axes>"
            ]
          },
          "metadata": {
            "tags": [],
            "needs_background": "light"
          }
        }
      ]
    },
    {
      "cell_type": "code",
      "metadata": {
        "colab": {
          "base_uri": "https://localhost:8080/"
        },
        "id": "mgcZP5LFTV5J",
        "outputId": "57e06fc3-f95d-4726-be3b-fb10153346c7"
      },
      "source": [
        "# evaluate the network\n",
        "print(\"[INFO] evaluating network...\")\n",
        "predictions = model.predict(testX, batch_size=32)\n",
        "print(classification_report(testY.argmax(axis=1),\n",
        "\tpredictions.argmax(axis=1), target_names=lb.classes_))"
      ],
      "execution_count": 30,
      "outputs": [
        {
          "output_type": "stream",
          "text": [
            "[INFO] evaluating network...\n",
            "              precision    recall  f1-score   support\n",
            "\n",
            "       GMB_1       1.00      0.84      0.91        25\n",
            "       GMB_3       0.92      0.89      0.91        27\n",
            "       GMB_5       0.81      0.71      0.76        31\n",
            "       GMB_7       0.59      1.00      0.74        29\n",
            "       GMB_9       0.96      0.66      0.78        35\n",
            "\n",
            "    accuracy                           0.81       147\n",
            "   macro avg       0.86      0.82      0.82       147\n",
            "weighted avg       0.86      0.81      0.81       147\n",
            "\n"
          ],
          "name": "stdout"
        }
      ]
    }
  ]
}