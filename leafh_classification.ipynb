{
  "nbformat": 4,
  "nbformat_minor": 0,
  "metadata": {
    "colab": {
      "name": "klasifikasi_daun.ipynb",
      "provenance": [],
      "collapsed_sections": [],
      "include_colab_link": true
    },
    "kernelspec": {
      "display_name": "Python 3",
      "name": "python3"
    }
  },
  "cells": [
    {
      "cell_type": "markdown",
      "metadata": {
        "id": "view-in-github",
        "colab_type": "text"
      },
      "source": [
        "<a href=\"https://colab.research.google.com/github/ajeworld/3Scenes-NN/blob/main/leafh_classification.ipynb\" target=\"_parent\"><img src=\"https://colab.research.google.com/assets/colab-badge.svg\" alt=\"Open In Colab\"/></a>"
      ]
    },
    {
      "cell_type": "markdown",
      "metadata": {
        "id": "urWT_WWIng5l"
      },
      "source": [
        "Mempersiapkan Data"
      ]
    },
    {
      "cell_type": "code",
      "metadata": {
        "colab": {
          "base_uri": "https://localhost:8080/"
        },
        "id": "FofomnfKmQFq",
        "outputId": "8b85d559-8444-4a94-86e7-97262de21b3b"
      },
      "source": [
        "import tensorflow as tf\n",
        "from tensorflow.keras.optimizers import RMSprop\n",
        "from tensorflow.keras.preprocessing.image import ImageDataGenerator\n",
        "import os\n",
        "\n",
        "print(tf.__version__) # mengecek versi tensorflow"
      ],
      "execution_count": 1,
      "outputs": [
        {
          "output_type": "stream",
          "text": [
            "2.3.0\n"
          ],
          "name": "stdout"
        }
      ]
    },
    {
      "cell_type": "code",
      "metadata": {
        "colab": {
          "base_uri": "https://localhost:8080/"
        },
        "id": "WOzK6nLII5wt",
        "outputId": "bd63c52b-2bdc-413e-cdb9-92a9dd47b080"
      },
      "source": [
        "from google.colab import drive\n",
        "drive.mount('/content/drive')"
      ],
      "execution_count": 2,
      "outputs": [
        {
          "output_type": "stream",
          "text": [
            "Drive already mounted at /content/drive; to attempt to forcibly remount, call drive.mount(\"/content/drive\", force_remount=True).\n"
          ],
          "name": "stdout"
        }
      ]
    },
    {
      "cell_type": "code",
      "metadata": {
        "id": "_D03K0dYHN-Q"
      },
      "source": [
        "main_dir = '/content/drive/MyDrive/leaf'\n",
        "training_dir = os.path.join(main_dir, 'training')\n",
        "validation_dir = os.path.join(main_dir, 'validation')"
      ],
      "execution_count": 3,
      "outputs": []
    },
    {
      "cell_type": "code",
      "metadata": {
        "colab": {
          "base_uri": "https://localhost:8080/"
        },
        "id": "Ru0_6YCqHP0b",
        "outputId": "76957193-3322-47d6-f103-ea3ddfa3b061"
      },
      "source": [
        "os.listdir('/content/drive/MyDrive/leaf/training')"
      ],
      "execution_count": 4,
      "outputs": [
        {
          "output_type": "execute_result",
          "data": {
            "text/plain": [
              "['GMB_11', 'GMB_09', 'GMB_06', 'GMB_03', 'GMB_01']"
            ]
          },
          "metadata": {
            "tags": []
          },
          "execution_count": 4
        }
      ]
    },
    {
      "cell_type": "code",
      "metadata": {
        "colab": {
          "base_uri": "https://localhost:8080/"
        },
        "id": "zGN87GFRHd2G",
        "outputId": "e4c45464-5e88-496c-f57f-19d54837435d"
      },
      "source": [
        "os.listdir('/content/drive/MyDrive/leaf/validation')"
      ],
      "execution_count": 5,
      "outputs": [
        {
          "output_type": "execute_result",
          "data": {
            "text/plain": [
              "['GMB_11', 'GMB_09', 'GMB_06', 'GMB_03', 'GMB_01']"
            ]
          },
          "metadata": {
            "tags": []
          },
          "execution_count": 5
        }
      ]
    },
    {
      "cell_type": "code",
      "metadata": {
        "id": "cpjVrwtfV-IU"
      },
      "source": [
        "# proses augmentasi gambar\n",
        "\n",
        "training_datagen = ImageDataGenerator(\n",
        "  rescale=1./255,\n",
        "  rotation_range=20,\n",
        "  horizontal_flip=True,\n",
        "  shear_range=0.2,\n",
        "  zoom_range=0.2,\n",
        "  fill_mode='nearest'\n",
        ")\n",
        "\n",
        "test_datagen = ImageDataGenerator(\n",
        "  rescale=1./255,\n",
        "  rotation_range=20,\n",
        "  horizontal_flip=True,\n",
        "  shear_range=0.2,\n",
        "  zoom_range=0.2,\n",
        "  fill_mode = 'nearest'  \n",
        ")"
      ],
      "execution_count": 6,
      "outputs": []
    },
    {
      "cell_type": "code",
      "metadata": {
        "colab": {
          "base_uri": "https://localhost:8080/"
        },
        "id": "MnOBPbCSXFjC",
        "outputId": "9bf6fa94-e46a-43a4-9590-d6fecb70c854"
      },
      "source": [
        "training_generator = training_datagen.flow_from_directory(\n",
        "    training_dir, # directory training\n",
        "    target_size=(64, 64),\n",
        "    batch_size=5,\n",
        "    color_mode=\"rgb\",\n",
        "    class_mode='categorical'\n",
        ")\n",
        "\n",
        "validation_generator = test_datagen.flow_from_directory(\n",
        "    validation_dir, # directory validation\n",
        "    target_size=(64, 64),\n",
        "    batch_size=5,\n",
        "    color_mode=\"rgb\",\n",
        "    class_mode='categorical'\n",
        ")"
      ],
      "execution_count": 7,
      "outputs": [
        {
          "output_type": "stream",
          "text": [
            "Found 593 images belonging to 5 classes.\n",
            "Found 593 images belonging to 5 classes.\n"
          ],
          "name": "stdout"
        }
      ]
    },
    {
      "cell_type": "code",
      "metadata": {
        "id": "CjyroOxjYt7X"
      },
      "source": [
        "model = tf.keras.models.Sequential([\n",
        "  tf.keras.layers.Conv2D(32, (3, 3), activation='relu', input_shape=(64, 64, 3)),\n",
        "  tf.keras.layers.MaxPooling2D(2, 2),\n",
        "  tf.keras.layers.Conv2D(64, (3, 3), activation='relu'),\n",
        "  tf.keras.layers.MaxPooling2D(2, 2),\n",
        "  tf.keras.layers.Conv2D(128, (3, 3), activation='relu'),\n",
        "  tf.keras.layers.MaxPooling2D(2, 2),\n",
        "  tf.keras.layers.Flatten(),\n",
        "  tf.keras.layers.Dense(128, activation=\"relu\"),\n",
        "  tf.keras.layers.Dense(5, activation=\"softmax\")\n",
        "])"
      ],
      "execution_count": 8,
      "outputs": []
    },
    {
      "cell_type": "code",
      "metadata": {
        "id": "4vw-pDHvbqH8"
      },
      "source": [
        "model.compile(loss=\"categorical_crossentropy\",\n",
        "              optimizer=tf.optimizers.Adam(),\n",
        "              metrics=['accuracy'])"
      ],
      "execution_count": 9,
      "outputs": []
    },
    {
      "cell_type": "code",
      "metadata": {
        "colab": {
          "base_uri": "https://localhost:8080/"
        },
        "id": "Zj-NwpWJdKaB",
        "outputId": "383bca9a-9901-4d20-8f5e-9c2294ef6e64"
      },
      "source": [
        "model.fit(\n",
        "    training_generator,\n",
        "    steps_per_epoch=5,\n",
        "    epochs=20,\n",
        "    validation_data=validation_generator,\n",
        "    validation_steps=5,\n",
        "    verbose=1\n",
        ")"
      ],
      "execution_count": 29,
      "outputs": [
        {
          "output_type": "stream",
          "text": [
            "Epoch 1/20\n",
            "5/5 [==============================] - 11s 2s/step - loss: 0.6900 - accuracy: 0.7200 - val_loss: 0.5109 - val_accuracy: 0.8400\n",
            "Epoch 2/20\n",
            "5/5 [==============================] - 10s 2s/step - loss: 0.4564 - accuracy: 0.8000 - val_loss: 0.4210 - val_accuracy: 0.8800\n",
            "Epoch 3/20\n",
            "5/5 [==============================] - 10s 2s/step - loss: 0.4466 - accuracy: 0.9200 - val_loss: 0.6494 - val_accuracy: 0.7600\n",
            "Epoch 4/20\n",
            "5/5 [==============================] - 10s 2s/step - loss: 0.3386 - accuracy: 0.9200 - val_loss: 0.6606 - val_accuracy: 0.7200\n",
            "Epoch 5/20\n",
            "5/5 [==============================] - 10s 2s/step - loss: 0.4414 - accuracy: 0.8400 - val_loss: 0.7598 - val_accuracy: 0.6800\n",
            "Epoch 6/20\n",
            "5/5 [==============================] - 10s 2s/step - loss: 0.2887 - accuracy: 0.9200 - val_loss: 0.4457 - val_accuracy: 0.8000\n",
            "Epoch 7/20\n",
            "5/5 [==============================] - 10s 2s/step - loss: 0.6205 - accuracy: 0.6522 - val_loss: 0.3578 - val_accuracy: 0.8800\n",
            "Epoch 8/20\n",
            "5/5 [==============================] - 10s 2s/step - loss: 0.3914 - accuracy: 0.8800 - val_loss: 0.3714 - val_accuracy: 0.8000\n",
            "Epoch 9/20\n",
            "5/5 [==============================] - 10s 2s/step - loss: 0.5133 - accuracy: 0.7200 - val_loss: 0.6611 - val_accuracy: 0.8000\n",
            "Epoch 10/20\n",
            "5/5 [==============================] - 10s 2s/step - loss: 0.7041 - accuracy: 0.7200 - val_loss: 0.7301 - val_accuracy: 0.7600\n",
            "Epoch 11/20\n",
            "5/5 [==============================] - 10s 2s/step - loss: 0.9529 - accuracy: 0.6000 - val_loss: 0.6228 - val_accuracy: 0.8000\n",
            "Epoch 12/20\n",
            "5/5 [==============================] - 10s 2s/step - loss: 0.4705 - accuracy: 0.8000 - val_loss: 0.5976 - val_accuracy: 0.7600\n",
            "Epoch 13/20\n",
            "5/5 [==============================] - 10s 2s/step - loss: 0.5956 - accuracy: 0.8800 - val_loss: 0.6863 - val_accuracy: 0.7200\n",
            "Epoch 14/20\n",
            "5/5 [==============================] - 10s 2s/step - loss: 0.5169 - accuracy: 0.8000 - val_loss: 0.6446 - val_accuracy: 0.6800\n",
            "Epoch 15/20\n",
            "5/5 [==============================] - 10s 2s/step - loss: 0.4136 - accuracy: 0.8800 - val_loss: 0.9581 - val_accuracy: 0.6400\n",
            "Epoch 16/20\n",
            "5/5 [==============================] - 10s 2s/step - loss: 0.6733 - accuracy: 0.7600 - val_loss: 0.6635 - val_accuracy: 0.8000\n",
            "Epoch 17/20\n",
            "5/5 [==============================] - 10s 2s/step - loss: 0.5330 - accuracy: 0.7600 - val_loss: 0.6783 - val_accuracy: 0.6800\n",
            "Epoch 18/20\n",
            "5/5 [==============================] - 10s 2s/step - loss: 0.6080 - accuracy: 0.7200 - val_loss: 0.4821 - val_accuracy: 0.7600\n",
            "Epoch 19/20\n",
            "5/5 [==============================] - 10s 2s/step - loss: 0.4570 - accuracy: 0.7600 - val_loss: 0.5037 - val_accuracy: 0.8400\n",
            "Epoch 20/20\n",
            "5/5 [==============================] - 10s 2s/step - loss: 0.4341 - accuracy: 0.8400 - val_loss: 0.5300 - val_accuracy: 0.8400\n"
          ],
          "name": "stdout"
        },
        {
          "output_type": "execute_result",
          "data": {
            "text/plain": [
              "<tensorflow.python.keras.callbacks.History at 0x7fcf80e02d30>"
            ]
          },
          "metadata": {
            "tags": []
          },
          "execution_count": 29
        }
      ]
    }
  ]
}